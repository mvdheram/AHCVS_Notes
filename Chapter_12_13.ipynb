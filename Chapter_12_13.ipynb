{
  "nbformat": 4,
  "nbformat_minor": 0,
  "metadata": {
    "colab": {
      "name": "Chapter 12_13.ipynb",
      "provenance": [],
      "collapsed_sections": [],
      "toc_visible": true,
      "authorship_tag": "ABX9TyNRPUtb7HR+0Flw1QXKKSog",
      "include_colab_link": true
    },
    "kernelspec": {
      "name": "python3",
      "display_name": "Python 3"
    },
    "language_info": {
      "name": "python"
    }
  },
  "cells": [
    {
      "cell_type": "markdown",
      "metadata": {
        "id": "view-in-github",
        "colab_type": "text"
      },
      "source": [
        "<a href=\"https://colab.research.google.com/github/mvdheram/AHCVS_Notes/blob/main/Chapter_12_13.ipynb\" target=\"_parent\"><img src=\"https://colab.research.google.com/assets/colab-badge.svg\" alt=\"Open In Colab\"/></a>"
      ]
    },
    {
      "cell_type": "markdown",
      "source": [
        "# Viewpoint space partitioning"
      ],
      "metadata": {
        "id": "PPTvaxI_FVUF"
      }
    },
    {
      "cell_type": "markdown",
      "source": [
        "* **Why ?**\n",
        "  * Improvement over PVS, where partitioning is done such that the visibility of region by boserver does not change and is not viewpoint dependent\n",
        "\n",
        "* **What ?**\n",
        "  * Division of set of all possible viewpoints in 3D space in regions. The set of regions is viewpoint space partition\n",
        "    * Property : \n",
        "      * Within region the appearance remains the same in the 2D image space.\n",
        "        * **What is same appearance ?**\n",
        "          * There are only topological (bending, stretching) changes in 2D image space. Not a major change.\n",
        "\n",
        "* **How ?**\n",
        "  * "
      ],
      "metadata": {
        "id": "g5e687XnFwAU"
      }
    },
    {
      "cell_type": "markdown",
      "source": [
        "## VSP using polyhedron"
      ],
      "metadata": {
        "id": "F942rAalT7hx"
      }
    },
    {
      "cell_type": "markdown",
      "source": [
        "**VSP of polyhedron**\n",
        "  * Considering a scene consisting of Polyherdron\n",
        "    * Polyhedron is 3D body, consists of 2 polygons per edge.\n",
        "    * Two types \n",
        "      1. Convex polyhedron\n",
        "      2. Non-convex polyhedron \n",
        "\n",
        "  * View of polyhedron is 2D projection of corners, edges of polyhedron \n",
        "    * 2 Type of projection \n",
        "      * Orthographic \n",
        "      * Perspective \n",
        "  * In 2D projection \n",
        "    * Intersecting lines, coinciding lines becomes points\n",
        "    * Lines between the points becomes edges\n",
        "  * **VSP devides all viewpoints in 3D space into regions such that visibility in the region doesnot change.**\n",
        "    * Appearance same in each region:\n",
        "      * Within region the appearance remains same in 2D image space\n",
        "      * Appearance of region in 2D image space by viewer remains same except for the topological (bending, streching etc) changes.\n",
        "    * Appearance changes at borders:\n",
        "      * **Event** : At border of the regions with same appearance, appearance changes (topological)\n",
        "      * **Polyhedron scene**\n",
        "        * An event occurs only when a polygon turns away from the viewer\n",
        "\n",
        "**Aspect graph**\n",
        "  * Simplified representation of viewpoint space partition \n",
        "    * Each region receives node\n",
        "    * Adjacent regions have edge between node\n",
        "\n",
        "\n",
        "**Size of VSP/aspect graph**\n",
        "  * $O(n^2)$\n",
        "\n"
      ],
      "metadata": {
        "id": "0qmto3qHj-Wj"
      }
    },
    {
      "cell_type": "markdown",
      "source": [
        "## Dynamic PVS"
      ],
      "metadata": {
        "id": "bEGWUW914S44"
      }
    },
    {
      "cell_type": "markdown",
      "source": [
        "**WHy ?**\n",
        "  * Improvement over static PVS \n",
        "    * calculation dynamically at run-time\n",
        "  * **Advantages :**\n",
        "    * No memory space of stab trees\n",
        "      * Only adjacency graph needed\n",
        "    * Dynamic scenes\n",
        "    * Shorter pre-processing steps\n",
        "\n",
        "\n",
        "**What ?**\n",
        "  * PVS algorithm calculated at pre-processing step\n",
        "    * Cell-to-cell visibility\n",
        "      * Using sightlines intersecting portals\n",
        "      * Independent of the viewpoint\n",
        "    * Eye-to-cell visibility (run-time)\n",
        "      * reduce the PVS set depending on viewpoint \n",
        "  * Both steps (cell-to-cell and eye-to-cell) calculated at runtime. \n",
        "\n",
        "**How ?**\n",
        "  * Idea :\n",
        "    * Build spatial subdivision with BSP tree\n",
        "      * Division into cells and portals\n",
        "      * Adjacency graph is used to get the visible set\n",
        "    * Walkthrough with viewpoint dependent calculation of PVS\n",
        "      * No need of stab tree"
      ],
      "metadata": {
        "id": "Eh_MiRWw4iDd"
      }
    },
    {
      "cell_type": "markdown",
      "source": [
        "Basic : Algorithm D-PVS\n",
        "\n",
        "1. Determine cell V in which the viewer stands (using adjacency graph)\n",
        "  * Render viewer cell \n",
        "\n",
        "2. Render neighboring cells that can be seen through portals.\n",
        "3. Build portal sequence until no portals are visible in each portal sequnece."
      ],
      "metadata": {
        "id": "_kA5P91_-ZNB"
      }
    },
    {
      "cell_type": "markdown",
      "source": [
        "Details : Alog D-PVS\n",
        "\n",
        "Goal : Determine potential visible sets from the viewer position to render objects in cells seen form viewer.\n",
        "\n",
        "**Algorithm :**\n",
        "1. Determine cell V of the viewer and render geometry of cell V.\n",
        "  1. Start with empty portal sequence P\n",
        "  2. **Initialize 2D bounding box C in screen size**\n",
        "2. Perform frustum culling to compute neighbor\n",
        "  1. Compute the cells visible from viewer frustum  \n",
        "  2. **Calculate 2D_cullbox :**\n",
        "    * **Compute the 2D bounding box of the portals visible from the viewer**\n",
        "3. **All Neighbors of cell V are checked for intersection of cell(2D_cullbox) and projected portal.**  \n",
        "  * For direct_neighbor V' of cell V\n",
        "    * For portals p' of cell(v) leading to v'\n",
        "      * **Project portal into image space (2D bounding box using corner points)**\n",
        "      * **Calculate the intersection (2D_cullbox) and (portal 2D-BB)**\n",
        "4. Check the intersection \n",
        "  * If intersections == empty\n",
        "    * Neighboring cell v' is hidden by portal sequence\n",
        "    *  Search in adjacency graph ends\n",
        "  * else\n",
        "    * Parts of neighboring cell V' are visible\n",
        "      * Recurse with new neighbor with step-2"
      ],
      "metadata": {
        "id": "ynMPMufuBkw-"
      }
    },
    {
      "cell_type": "markdown",
      "source": [
        "# Randomized z-buffer algorithm \n",
        "\n"
      ],
      "metadata": {
        "id": "8VKjx2SZbq8D"
      }
    },
    {
      "cell_type": "markdown",
      "source": [
        "* **Why ?**\n",
        "  *  Scene : **Number of objects to be rendered > Number of polygons that can be rendered in real-time**\n",
        "    * **x - polygons can be rendered in real time by graphics computer but scene consists of c*x polygons**\n",
        "* **What ?**\n",
        "  * Algorithm to reduce the number of polygons to be rendered in highly complex scene consisting of many objects.\n",
        "\n",
        "* **How ?**\n",
        "  * Idea :       \n",
        "    1. Draw point sample image of the triangulated object by randomly throwing points at the geometry.\n",
        "    2. Render each drawn point as pixel and reconstruct the image from it.\n",
        "      * **Similar to color cubes**"
      ],
      "metadata": {
        "id": "FZPAPuV1cFb4"
      }
    },
    {
      "cell_type": "markdown",
      "source": [
        "Random z-buffer Algorithm \n",
        "\n",
        "**Input** : Obeject triangles\n",
        "\n",
        "**Output** : Rendered image\n",
        "\n",
        "Algorithm :      \n",
        "1. Pre-processing\n",
        "  * Classify triangles by location, orientation, area \n",
        "  * Data structure\n",
        "    * Loose octree (Hierarchical subdivision of triangles)\n",
        "2. Choosing sample points\n",
        "  * Choose group of triangles with **same projected size.**\n",
        "    * Projected size (triangle_group) == large :      \n",
        "      * Conventional z-buffer rendering\n",
        "    * **Projected size (triangle_group) == small :**\n",
        "      * **Sample point for the small triangle selected by area**\n",
        "3. Image reconstruction \n",
        "  1. Visibility splatting\n",
        "    * Make point sample bigger in size to get visible point\n",
        "  2. Interpolation \n",
        "    * Interpolate the visible point for reconstructing the image"
      ],
      "metadata": {
        "id": "D1yiqPB6lBP-"
      }
    }
  ]
}