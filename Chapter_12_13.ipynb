{
  "nbformat": 4,
  "nbformat_minor": 0,
  "metadata": {
    "colab": {
      "name": "Chapter 12_13.ipynb",
      "provenance": [],
      "authorship_tag": "ABX9TyNbKdRpTCjfM7vlF+iGVJ9i",
      "include_colab_link": true
    },
    "kernelspec": {
      "name": "python3",
      "display_name": "Python 3"
    },
    "language_info": {
      "name": "python"
    }
  },
  "cells": [
    {
      "cell_type": "markdown",
      "metadata": {
        "id": "view-in-github",
        "colab_type": "text"
      },
      "source": [
        "<a href=\"https://colab.research.google.com/github/mvdheram/AHCVS_Notes/blob/main/Chapter_12_13.ipynb\" target=\"_parent\"><img src=\"https://colab.research.google.com/assets/colab-badge.svg\" alt=\"Open In Colab\"/></a>"
      ]
    },
    {
      "cell_type": "markdown",
      "source": [
        "# Viewpoint space partitioning"
      ],
      "metadata": {
        "id": "PPTvaxI_FVUF"
      }
    },
    {
      "cell_type": "markdown",
      "source": [
        "* **Why ?**\n",
        "  * Improvement over PVS where the visibility of region does not change and not viewpoint dependent\n",
        "\n",
        "* **What ?**\n",
        "  * Division of set of all possible viewpoints in 3D space in regions \n",
        "    * Withint region the appearance remains the same in the 2D image space.\n",
        "      * Changes of topological type (bending, stretching ) in 2D image space. Not a major change \n",
        "* **How ?**\n",
        "  * "
      ],
      "metadata": {
        "id": "g5e687XnFwAU"
      }
    },
    {
      "cell_type": "code",
      "execution_count": null,
      "metadata": {
        "id": "Du8IH7zSFQhX"
      },
      "outputs": [],
      "source": [
        ""
      ]
    }
  ]
}