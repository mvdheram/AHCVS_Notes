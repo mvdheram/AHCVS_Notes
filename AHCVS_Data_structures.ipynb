{
  "nbformat": 4,
  "nbformat_minor": 0,
  "metadata": {
    "colab": {
      "name": "AHCVS Data structures.ipynb",
      "provenance": [],
      "toc_visible": true,
      "authorship_tag": "ABX9TyOf8pDsBR9iM/5zIXs6kHWh",
      "include_colab_link": true
    },
    "kernelspec": {
      "name": "python3",
      "display_name": "Python 3"
    },
    "language_info": {
      "name": "python"
    }
  },
  "cells": [
    {
      "cell_type": "markdown",
      "metadata": {
        "id": "view-in-github",
        "colab_type": "text"
      },
      "source": [
        "<a href=\"https://colab.research.google.com/github/mvdheram/AHCVS_Notes/blob/main/AHCVS_Data_structures.ipynb\" target=\"_parent\"><img src=\"https://colab.research.google.com/assets/colab-badge.svg\" alt=\"Open In Colab\"/></a>"
      ]
    },
    {
      "cell_type": "markdown",
      "source": [
        "Tree Data structure fundamentals\n",
        "\n",
        "* Height of tree/node \n",
        "  * The height of a node in a tree is the length of the longest path from that node downward to a leaf.\n",
        "  * **No. of edges (Node -> Leaf)** \n",
        "  * **Number of edges node n has to the farthest leaf** \n",
        "    * **Height of leaf node = 0**\n",
        "* Depth of tree \n",
        "  * A node’s depth is the number of edges back up to the root. \n",
        "  * **No. of edges (Node -> root)**\n",
        "    * **Depth of root is 0** "
      ],
      "metadata": {
        "id": "syA7lPuGzlIp"
      }
    },
    {
      "cell_type": "markdown",
      "source": [
        "# Chapter 4 - Quad and octree"
      ],
      "metadata": {
        "id": "BaGXD0fmVmd4"
      }
    },
    {
      "cell_type": "markdown",
      "source": [
        "**Why ?**\n",
        "\n",
        "* Spatial sorting \n",
        "  * **Using spatial subdivision**\n",
        "* Range queries \n",
        "  * Faster computation of frustum culling\n",
        "  * **Rendering algorithms use it for speedup of pipeline.**\n",
        "\n",
        "\n",
        "**What ?**\n",
        "  * Spatial data structure ( data structures to store spatial data )\n",
        "    * Oct tree - 3D scenes\n",
        "    * Quad tree - 2D scenes\n",
        "\n",
        "**Where (applications) ?**\n",
        "\n",
        "* Generating highly complex meshes \n",
        "* **Visibility culling** \n"
      ],
      "metadata": {
        "id": "e7VSEIPCVsJO"
      }
    },
    {
      "cell_type": "markdown",
      "source": [
        "## What Quad tree and Octree"
      ],
      "metadata": {
        "id": "qQDowrJAYTf_"
      }
    },
    {
      "cell_type": "markdown",
      "source": [
        "**Quad tree**\n",
        "\n",
        "* Used for rendering 2D scenes\n",
        "* Tree with inner node containing 4 children (NW,NE, SW,SE)\n",
        "* **Each node corresponds to square** \n",
        "  * Root node represents entire 2D scene (square)\n",
        "  * Recursively subdivide the scene (square) into four quadrants/squares\n",
        "    * Store elements in the leaf node(square)\n",
        "* Subdivision of square/inner node might not be balanced.\n",
        "\n",
        "\n",
        "**Octree**\n",
        "\n",
        "* Used for rendering 3D scene\n",
        "* Tree with inner node containing 8 children \n",
        "* **Each node corresponds to cube** \n",
        "  * Root node represents entire 3D scene (cube)\n",
        "  * Recursively subdivide entire scene into 8 cubes \n",
        "\n",
        "\n"
      ],
      "metadata": {
        "id": "-gS4nCuOYbH4"
      }
    },
    {
      "cell_type": "markdown",
      "source": [
        "## Construction "
      ],
      "metadata": {
        "id": "J54v4SUE7CXO"
      }
    },
    {
      "cell_type": "markdown",
      "source": [
        "**Algorithm of quad/oct tree construction** \n",
        "\n",
        "  1. Start with cell (square/cube) that contains all the points\n",
        "    * Bounding box from all the points\n",
        "  2.  Divide the cell into four(quad tree) or eight (oct tree) squares and distribute all the points into squares \n",
        "  3. **Divide the squares until k points lie in square** \n",
        "\n",
        "* The value of K influences runtime and size \n",
        "  * Typically k>1 \n",
        "\n",
        "**Storing elements**\n",
        " * 2 choices  \n",
        "    1. Leaf node square (rendering algorithms/ Quad tree)\n",
        "    2. In leaves and inner node (Storing trianlges / Oct tree)"
      ],
      "metadata": {
        "id": "0avbwueEMS9E"
      }
    },
    {
      "cell_type": "markdown",
      "source": [
        "### Quad tree"
      ],
      "metadata": {
        "id": "br2sYn_log3E"
      }
    },
    {
      "cell_type": "markdown",
      "source": [
        "**Quad-tree for point set** \n",
        "\n",
        "* **Input** : *Point set P*\n",
        "\n",
        "* **Output** : *Quad tree with leaf nodes containing points*\n",
        "\n",
        "**Contruction**\n",
        "\n",
        "1. Points stored in leaf node square cells\n",
        "  * Recursively sub-divide until there are k - points in the leaf nodes\n",
        "\n",
        "2. **Inner nodes only contain the square** \n",
        "\n",
        "\n",
        "**Recursive definition**\n",
        "\n",
        "* Let \n",
        "  * P = **Entire point set to be divided**  \n",
        "    * px = x-coordinate of a point p\n",
        "    * py = y- coordinate of a point p  \n",
        "  * sigma = **Top square (bounding box)** for point set P\n",
        "    * Square with x -coordinates and y-coordinates spanning entire point set P\n",
        "      * xmid - mid point of x coordinates of square\n",
        "      * ymid - mid point of y coordinates of square \n",
        "\n",
        "```\n",
        "Algorithm Quadtree(p, sigma):\n",
        "  * If P <= 1 (Base case) :\n",
        "    *  The quad tree consists of only leaf node square sigma where the point P is stored.\n",
        "\n",
        "  * if p > 1 (recursion case) :\n",
        "    * Store sigma in node v\n",
        "    * Divide sigma into 4 equal sized sub squares NE,NW,SE,SW using xmid, ymid \n",
        "      * xmid = mid point of x - axis of square\n",
        "      * ymid = mid point of y - axis of square\n",
        "\n",
        "    * Node v has four children NE,NW,SE,SW \n",
        "      * Each child node (NE..) has Point set (PNE,..) belonging to four sub squares \n",
        "        * P-NE = (px > xmid, py > ymid), \n",
        "        * P-NW = (px < xmid, py > ymid),\n",
        "        * P-Sw = (px < xmid, py < ymid),\n",
        "        * P-SE = (px > xmid, py < ymid)\n",
        "\n",
        "    * Recursively subdivide children until k points are in the node \n",
        "      * store the points in the leaf node square.\n",
        "```\n"
      ],
      "metadata": {
        "id": "V-Y1odlYnHSE"
      }
    },
    {
      "cell_type": "markdown",
      "source": [
        "**Stopping condition for recursive sub-division / Depth of quad tree** \n",
        "  * 2 choices \n",
        "    1. Fixing the **maximum depth**  ***or***\n",
        "    2. Fix number of elements **(size)** to be stored per each cell/square \n",
        "  * **Cannot limit both** (depth and size) - **Disadvantage of quadtree**\n",
        "\n",
        "=> `The depth of Quad tree for a point set P in the plane is atmost - log(s/c) + 3/2`\n",
        "  * **c - minimum distance** between two points \n",
        "  * **s - side length of outer most square**\n",
        "\n",
        "\n",
        "\n",
        "---\n",
        "\n",
        "\n",
        "\n",
        "Proof (depth of quad tree) :\n",
        "  * Side length of the square at depth i = `s/s^i`\n",
        "    * Max distance between two points in a square = `root(2) * s/2^i`\n",
        "  * Inner square contain atleast 2 points with minimum distance c \n",
        "    * Hence - at depth i Max distance >= minimum distance in square \n",
        "    * i <= log(s/c) + 1/2 \n",
        "\n",
        "\n",
        "---\n",
        "\n",
        "**Quad tree cannot be balanced**\n",
        "  * Why ?\n",
        "    * Quad tree **dependent** on **position of points** and **Minimum distance between two points (c)** and this defines the depth of quad tree.\n",
        "      * Position of points cannot be bounded hence.\n",
        "\n",
        "**Run-time and size of quadtree**\n",
        "  * A quad tree with n points and depth d has \n",
        "    * **size = O(d+1)n**  nodes\n",
        "    * **runtime = O((d+1)n)**\n",
        "\n",
        "---\n",
        "\n",
        "Proof for size and runtime of BSP tree\n",
        "\n",
        "1. **Size of quad tree = O((d+1)n)**\n",
        "\n",
        "  * Each inner node has 4 children \n",
        "    * Number of leaves = 1 + 3 * number of inner nodes\n",
        "  * Each inner node atleast contain one point \n",
        "    * Number of inner nodes in each level is linear dependent on number of nodes - O(n)\n",
        "    * tree has - O((d+1)n)\n",
        "\n",
        "2. **Run time of quad tree = O((d+1)n)**\n",
        "\n",
        "  * Time linearly depends on number of points in each square \n",
        "  * Construction cost = O((d+1)n) time for all levels\n",
        "---\n",
        "\n"
      ],
      "metadata": {
        "id": "lvBHzgtG7Fs8"
      }
    },
    {
      "cell_type": "markdown",
      "source": [
        "**Search in Quad tree**\n",
        "\n",
        "* Going to the neighbor of the cell/ node (v) in quad tree(t) ?\n",
        "  * **NorthNeighbor(v,T)**\n",
        "\n",
        "Algorithm search in quad tree\n",
        "\n",
        "* Input\n",
        "  * Node v and quad tree T\n",
        "* Output \n",
        "  * Neighbor of node v in quad tree T\n",
        "    * 2 Cases\n",
        "      1. Northneighbor \n",
        "        * SW, SE\n",
        "      2. Northneighbor \n",
        "        * NW,NE\n",
        "\n",
        "```\n",
        "Recursive Algorithm Northneighbor(v, T):\n",
        "  * if node v is root  (Base case)\n",
        "    * Return Null\n",
        "  * else (recursive case)\n",
        "    * 2 cases :\n",
        "      1. Northneighbor (SW or SE) child node in a parent node (V)\n",
        "        * Here the northneighbor of SW and SE **lie in the same parent node(v)**\n",
        "          * **Return the NW child (v)** for NorthNeighbor(SW)\n",
        "          * **Return the NE child (v)** for NorthNeighbor(SE)\n",
        "      2. Northneighbor (NW, NE) child node in a parent node (V)\n",
        "        * Here the northneighbor of NW and NE **lie in the child of northneighbor of parent node(v) / siblings of parent node**\n",
        "          * Traverse the tree up to first node which is common ancestor (lowest common ancestor) of node v and NorthNeighbor(v,T)\n",
        "            * Let **U  =** Recurse to **Northneighbor(parent(v),T)**\n",
        "              * **Return the SW child (U)** for NorthNeighbor(NW)\n",
        "              * **Return the SE child (U)** for NorthNeighbor(NE)\n",
        "            * If no node \n",
        "              * Return null\n",
        "```\n",
        "\n",
        "* **lowest Common ancestor of node** ?\n",
        "  * Two nodes either in  left subtree and/or right subtree have a common common parent node ( node that lies in path from root to the ancestor including the ancestor)\n"
      ],
      "metadata": {
        "id": "XtTlbt6yh9O2"
      }
    },
    {
      "cell_type": "markdown",
      "source": [
        "**Storing triangles in quad tree**\n",
        "\n",
        "* Polygons are intersected by the edges \n",
        "  * solution \n",
        "    * Split polygon\n",
        "      * Split the polygon into 2 or 3 polygons and store in the cells/nodes.\n",
        "      * Disadvantage : Polygon count increases which intern increases size \n",
        "    * Store polygon redundantly\n",
        "      * Store polygon in all the cells which it intersects without splitting\n",
        "      * Disadvantage : Increases the cost as a single polygon is drawn n intersecting times.\n",
        "    * Store polygon where it fits entirely in cell\n",
        "      * Store the intersecting polygon in root node\n",
        "      * Disadvantage : Some of the occulusion culling algorithms might not work if polygons are stored in the root \n",
        "    * Loose octree (Modified octree data structure)\n",
        "      * Enlarge the cell space occupied by node in all dimentions to fit the intersected triangle object into one of the cell (SW...)\n",
        "      * Object center decides which of the enlarged cell it belongs to \n",
        "      * By enlarging the cells in a node, the cells overlap "
      ],
      "metadata": {
        "id": "oeP-r2x_qcnz"
      }
    },
    {
      "cell_type": "markdown",
      "source": [
        "### Octree"
      ],
      "metadata": {
        "id": "OSGAQ3w2oQKg"
      }
    },
    {
      "cell_type": "markdown",
      "source": [
        "**Insertion and partitioning 3D objects by oct tree**\n",
        "\n",
        "* Points can be stored easily \n",
        "* Objects can get intersected \n"
      ],
      "metadata": {
        "id": "94pun51eotGb"
      }
    },
    {
      "cell_type": "markdown",
      "source": [
        "### Loose octree"
      ],
      "metadata": {
        "id": "gDYpB3o4biuS"
      }
    },
    {
      "cell_type": "code",
      "source": [
        ""
      ],
      "metadata": {
        "id": "8ARCRQ4dblWY"
      },
      "execution_count": null,
      "outputs": []
    },
    {
      "cell_type": "markdown",
      "source": [
        "### Balanced Quad tree\n",
        "\n",
        "link 1 : https://www.cs.cmu.edu/~ckingsf/bioinfo-lectures/quadtrees.pdf\n",
        "\n",
        "link 2 : https://personal.us.es/almar/cg/09quadtrees.pdf \n",
        "\n",
        "link3 : http://homepages.math.uic.edu/~jan/mcs481/quadtrees.pdf"
      ],
      "metadata": {
        "id": "Jx0AnshXbmUs"
      }
    },
    {
      "cell_type": "markdown",
      "source": [
        "Balanced quad tree :\n",
        "\n",
        "* A quadtree subdivision is balanced if any two neighboring squares\n",
        "differ at most a factor two (<=2) in size.\n",
        "  * In a balanced quadtree subdivision,\n",
        "any two neighboring leaves differ at most one in depth."
      ],
      "metadata": {
        "id": "kefBti4ohDcy"
      }
    },
    {
      "cell_type": "markdown",
      "source": [
        "# Chapter 8 - kD trees"
      ],
      "metadata": {
        "id": "1U_5bpGyxQxC"
      }
    },
    {
      "cell_type": "markdown",
      "source": [
        "**Why?**\n",
        "  * Sorting of objects / points in the d\n",
        "dimensional space\n",
        "    * Range queries\n",
        "      * Range of all points lying in rectangle or cube  \n",
        "        * 2D - range query : Queries Involving two dimentions \n",
        "          * E.g. points that lie in the overlapped region in 2D space(X,Y)\n",
        "        * 3D - range queries : Queries Involving 3 dimentions\n",
        "          * E.g. Database queries involving two or three columns\n",
        "    * Occlusion culling\n",
        "\n",
        "**What?**\n",
        "  * Data structure for sorting and searching in k-dimentional space (**similar analogues to binary search tree**)\n",
        "  * **Property : \"points to the left of root are less and points to the right of root are greater.\"**\n",
        "    * E.g. 2D tree (X,Y coordinate)\n",
        "      * Choose the median of 3D points as root\n",
        "      * Recursively divide the point set into two halfs alternating along X, Y direcion as depth increases.\n",
        "\n",
        "**How?**\n",
        "  * **2D tree Construction** :\n",
        "    * Recursively divide the set of spatial points into **two equally sized subsets** along X,Y co-ordinates (orientation) using splitting line.\n",
        "      "
      ],
      "metadata": {
        "id": "jo2IEJi-0Aje"
      }
    },
    {
      "cell_type": "markdown",
      "source": [
        "**Properties of KD tree**\n",
        "\n",
        "* Binary tree \n",
        "* Splitting lines are parallel\n",
        "* From level to level, the orientation of subdivision changes.\n",
        "  * **Even tree depth** : **Vertical splitting line** \n",
        "  * **Odd tree depth** : **Horizontal splitting line**\n",
        "  * *Start with vertical splitting line which divides 2D points into two equal halfes, then a horizontal split recursively in two halfs and then a vertical ...*\n",
        "* Points are only stored in leaves\n",
        "* Points lying on splitting line must be determined which half it belongs to \n",
        "\n"
      ],
      "metadata": {
        "id": "anRJUiprBG4u"
      }
    },
    {
      "cell_type": "markdown",
      "source": [
        "## Algorithm for 2D Construction"
      ],
      "metadata": {
        "id": "LAda9mP9C29A"
      }
    },
    {
      "cell_type": "markdown",
      "source": [
        "Input : 2D point set P\n",
        "\n",
        "Output : Root of KD computed tree\n",
        "\n",
        "```\n",
        "Algo BuildKDTree(P,depth) : \n",
        "\n",
        "  if P contain only one point p\n",
        "    return leave node that stores P\n",
        "  \n",
        "  else\n",
        "    if depth is even \n",
        "      divide P with vertical line l through median w.r.t x - coordinate\n",
        "      into two sets p1, p2\n",
        "    else\n",
        "      divide p with horizontal line l through median w.r.t y - coordinate \n",
        "      into two sets p1,p2\n",
        "\n",
        "    Create node v and store splitting line (l) with vleft node and vright node \n",
        "    vleft = BuildKDTree(p1, depth+1)\n",
        "    vright = BuildKDTree(p2,depth+1)\n",
        "\n",
        "  return v\n",
        "``` \n",
        "\n",
        "* At each depth splitting line split the parent section into sub sections alternating along x, direction\n",
        "\n",
        "\n",
        "* **Depth - 0**\n",
        "  1. Start with **vertical split** of 2D point set sorted w.r.t x-corodinate\n",
        "  * Start with taking **median of 2D points with respect to x-coordinate** \n",
        "  2. Store the splitting line (l) as root node\n",
        "  3. Build the left, right subtree with points on left half and right half of splitting line.\n",
        "    * **Left subtree** : 2D points whose **x-coordinate** is **<** than **x-coordinate (root node)**\n",
        "    * **right subtree** : 2D points whose **x-coordinate is** > than **x-coordinate (root node)**\n",
        "* **Depth - 1**\n",
        "  4. **Horizontal split of left and right subtree w.r.t y-coordinate**\n",
        "  3. Build the left, right subtree with points on left half and right half of splitting line.\n",
        "    * Left subtree : 2D points whose **y-coordinate** is **<** than **y-coordinate (root node)**\n",
        "    * right subtree : 2D points whose **y-coordinate** is > than **y-coordinate (root node)**\n",
        "\n",
        "* Sort all points during pre-processing so tha \n",
        "  * Median computation takes O(1)\n",
        "  * Sublists generation takes O(n)"
      ],
      "metadata": {
        "id": "eamEcW_6D6t1"
      }
    },
    {
      "cell_type": "markdown",
      "source": [
        "### Space and time Analysis\n",
        "\n",
        "A kd tree for n points needs\n",
        "\n",
        "* Time : O(nlogn)\n",
        "  * n - Tme to compute 2 sub lists \n",
        "  * logn - Two recursive calls with half size\n",
        "* Space : O(n)"
      ],
      "metadata": {
        "id": "f1ig92cUC98i"
      }
    },
    {
      "cell_type": "markdown",
      "source": [
        "### Range Query \n"
      ],
      "metadata": {
        "id": "TT7OkcreiQn3"
      }
    },
    {
      "cell_type": "markdown",
      "source": [
        "**Range Query** :\n",
        "\n",
        "**What ?**\n",
        "  * Compute all the points that lie in the region (rectangle) in 2D space\n",
        "    * What is region ?\n",
        "      * Splitting lines creates open or closed rectangular regions (left half/right half of splitting line)\n",
        "      \n",
        "**How ?**\n",
        "  * Traverse the Kd tree and check which regions are overlapping/contained in the rectangle"
      ],
      "metadata": {
        "id": "7HAaQ2ppiVhC"
      }
    },
    {
      "cell_type": "markdown",
      "source": [
        "#### Algorithm 2D range query"
      ],
      "metadata": {
        "id": "6kpJwot51kns"
      }
    },
    {
      "cell_type": "markdown",
      "source": [
        "**Algo SearchKDtree(node v, query rectangle R)**\n",
        "\n",
        "* if v is leaf node\n",
        "  * if points of leaf node contained in region \n",
        "      report p(v)\n",
        "\n",
        "* else\n",
        "  * if **region left-child** (v) \n",
        "    * **fully contained** in region R\n",
        "\n",
        "      then report all points of subtree lc(v)\n",
        "    * **Overlaps** Region R\n",
        "      \n",
        "      then **SearchKDtree(lc(v),R)**\n",
        "  \n",
        "  * if **region right-child (v)** \n",
        "      * **fully contained** in region R\n",
        "\n",
        "      then report all points of subtree rc(v)\n",
        "      * **Overlaps** Region R\n",
        "      \n",
        "      then **SearchKDtree(rc(v),R)**\n",
        "      \n"
      ],
      "metadata": {
        "id": "yq4KG-ujndrl"
      }
    },
    {
      "cell_type": "markdown",
      "source": [
        "#### Complexity analysis\n"
      ],
      "metadata": {
        "id": "12b2oMXiqYQi"
      }
    },
    {
      "cell_type": "markdown",
      "source": [
        "Range query using searh KD tree algorithm for k points \n",
        "* **Time : O(n)**\n",
        "  * Why?\n",
        "    * Worst case : Reporting all points where the rectangle covers all points \n",
        "* Improvement \n",
        "  * **Output-sensitive algorithm**, where a new parameter **axis parallel range query (rectangle)** is reported with a kd tree for 𝑛 points in time  **𝑂(sqrt(𝑛)+𝑘)** where 𝑘 is the number of reported points"
      ],
      "metadata": {
        "id": "0llCc9Ciq1d2"
      }
    },
    {
      "cell_type": "code",
      "source": [
        ""
      ],
      "metadata": {
        "id": "vhcHbWdvq0s7"
      },
      "execution_count": null,
      "outputs": []
    }
  ]
}