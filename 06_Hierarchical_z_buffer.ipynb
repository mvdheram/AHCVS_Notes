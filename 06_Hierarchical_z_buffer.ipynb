{
  "nbformat": 4,
  "nbformat_minor": 0,
  "metadata": {
    "colab": {
      "name": "06_Hierarchical z-buffer.ipynb",
      "provenance": [],
      "toc_visible": true,
      "authorship_tag": "ABX9TyPTiDpVPR1MvcW8K5KnfJcx",
      "include_colab_link": true
    },
    "kernelspec": {
      "name": "python3",
      "display_name": "Python 3"
    },
    "language_info": {
      "name": "python"
    }
  },
  "cells": [
    {
      "cell_type": "markdown",
      "metadata": {
        "id": "view-in-github",
        "colab_type": "text"
      },
      "source": [
        "<a href=\"https://colab.research.google.com/github/mvdheram/AHCVS_Notes/blob/main/06_Hierarchical_z_buffer.ipynb\" target=\"_parent\"><img src=\"https://colab.research.google.com/assets/colab-badge.svg\" alt=\"Open In Colab\"/></a>"
      ]
    },
    {
      "cell_type": "markdown",
      "source": [
        "# Hierarchical z-buffer \n",
        "\n",
        "Paper : https://www.cs.cmu.edu/afs/cs/academic/class/15869-f11/www/readings/greene93_hierarchicalz.pdf"
      ],
      "metadata": {
        "id": "2aFsxMpau5Lz"
      }
    },
    {
      "cell_type": "markdown",
      "source": [
        "**What ?**\n",
        "  * **Occlusion culling algorithm (visibility algorithm)** to render visible polygons \n",
        "\n",
        "**Why ?**\n",
        "  * **To deal with aggregated occulusion**\n",
        "    * **Aggregated occlusion : small little group of objects occlude**\n",
        "  * **Dealing with dynamic scenes**\n",
        "    * Objects constantly moving     \n",
        "  * Advances over traditional z-buffer algorithm for visibility computation.\n",
        "\n",
        "**How ?**\n",
        "  * **Goal** \n",
        "    * Render only visible polygons \n",
        "  * **Idea** \n",
        "    * Front-to-back rendering of objects \n",
        "    * Conservative methods, all visible triangles are displayed\n",
        "  * **Uses**  \n",
        "    * Object space coherence\n",
        "      * Single computation used to resolve visibility of group of objects near in space  \n",
        "      * **Data structure**  \n",
        "        * Octree spatial subdivision\n",
        "    * Temporal coherence\n",
        "      * Visibility information from one frame\n",
        "can often be used to accelerate visibility computation for the next\n",
        "frame.\n",
        "      * **Uses** \n",
        "        * Use geometry visible in the previous frame to construct a\n",
        "starting point for algorithm \n",
        "    * Image space coherence\n",
        "      * Single computation used to resolve visibility of object covering group of pixel.\n",
        "      * **Data structure** \n",
        "        * Z-Pyramid (augment traditional Z-buffer scan conversion with\n",
        "an image-space Z pyramid)\n"
      ],
      "metadata": {
        "id": "Llgl4AuZuz51"
      }
    },
    {
      "cell_type": "markdown",
      "source": [
        "## Ideas of HZB"
      ],
      "metadata": {
        "id": "sn5DjJSeRRYT"
      }
    },
    {
      "cell_type": "markdown",
      "source": [
        "* Reduction of redundencies in \n",
        "  * **Visibility query (z-values)** \n",
        "    * **Use a single query** instead of querying each and every occluded objects.\n",
        "      * How ?\n",
        "        * **Using spatial coherence** (if an object is hidden, neighboring objects are also hidden)\n",
        "        * Cluster the objects and consider the minimum z-value of group and compute single visibility query for the group.  \n",
        "    ---\n",
        "    * Visibility of triangles are resolved in image space i.e. after rasterization and performing z-query \n",
        "      * Z -query : Compare depth/z-value of already rendered object to the new object to be rendered and render the new object if its visible\n",
        "    ---\n",
        "\n",
        "    * **Data structure** \n",
        "      * 3D Octree of scene with triangles stored in deepest octree cell \n",
        "        * Triangles that cannot be stored in 8 octants due to intersecting plane, are stored in parent node.\n",
        "    * **Visibility query/test using single query** \n",
        "        * **How ?**\n",
        "          * **Using Bounding Box (octree cell)**  \n",
        "            * Test octree cell instead of going to subtree and test each triangle in leaves. Hence, instead of testing everything in octree cell, we can discard the subtree of octree cell. \n",
        "            * **BoundingBox test** \n",
        "              * If bounding box (octree cell) is visible in image space (**after rasterization of bounding box - 2D bounding box**) by comparing pixel wise z-values of bounding box with the z-values of z-buffer(z-value of rendered object). - **Costly** \n",
        "          * **Using z-pyramid**\n",
        "            * **Why ?**\n",
        "              * **Reduce the cost of determining the visibility** of Bounding box(octree cube), make use of **z-pyramid of image space**.\n",
        "                * Possible to conclude\n",
        "very quickly a large polygon is hidden, making it unnecessary to\n",
        "examine the polygon pixel by pixel.\n",
        "              * As bounding boxes are projected rather than triangles, its better to build hierarchy of image space z-buffers as done for octree.\n",
        "            * **What ?**\n",
        "              * Hierarchy of image space z-values used to fasten the visibility test of bounding box of octree cell/cube.\n",
        "              * **Computation** \n",
        "                * **Recursively four adjecent z -values (square) of z-buffer in image space are combined into coarser quadrant by choosing the maximum of 4 z-values**.\n",
        "                  * Start from upper left corner and choose the maximum z-value of the 4 in the quadrant\n",
        "                  * Leads to 1/4 th resolution after first iteration.\n",
        "                  * Recursively perform the same operation untill a we have a single z-value. \n",
        "                    * **Top (higher level) of hierarchy(pyramid) is *single z-buffer* values (*farthest/maximum distance from frustum in image space*)**\n",
        "                    *  **Going down the hierarchy, finer values of z-buffer values are stored.**\n",
        "                    * **Leves (lower levels) of pyramid contain the original z-buffer values** \n",
        "                  * **How to Upadte z-values in pyramid**\n",
        "                    * After update of z-buffer in the lower levels (done by GPU), perform the same operation with new value and propogate upwards\n",
        "            * **How visibility test?**\n",
        "              1. **Calculate the minumum value per side of Boundingbox** \n",
        "                * Model the 6 sides of bounding box (octree cell) with 6x2 triangles (6 sides - cube X 2 triangles per side) => 2D BoundingBox\n",
        "                * Min(BoundingBox) = smallest value (per side?) of bounding box\n",
        "              2. **Project in Z-pyramid** \n",
        "                * **Project the minimum value** (per side?) of **bounding box onto finest level of z-pyramid**.\n",
        "                  * **Search for finest level from lower/finer to higher/coarser of z-pyramid where the projected side fits.**\n",
        "                    * Case (polygon located at center of image/ overlapping all quadrant of z-pyramid grid)\n",
        "                      * Go down to next finer level recursively in the z-pyramid \n",
        "                      * Check if polygon is hidden in all overlapping quadrants\n",
        "              3. **Test visibility** \n",
        "                * **Compare the z-values of projected bounding box and corresponding z-pyramid value**\n",
        "                  * for each side \n",
        "                    * **if min(z-value BoundingBox) > corresponding z value of ZPyramid**\n",
        "                      * *Polygon is hidden*  \n",
        "               \n",
        " \n"
      ],
      "metadata": {
        "id": "lZj_au-ySjOt"
      }
    },
    {
      "cell_type": "markdown",
      "source": [
        "**z-pyramid algorithm**\n",
        "\n",
        "```\n",
        "Isoccluded (polygon p, zpyramid zp)\n",
        "\n",
        "if (p does not overlap zp) (base case -  bounding box not in quadrant)\n",
        "  return \n",
        "\n",
        "Min(boundingBox) (Minimum value of bounding box polygon p to be tested)\n",
        "\n",
        "if (min(boundingBox) >= zp.z) (visibility test)\n",
        "  return true\n",
        "\n",
        "else\n",
        "  if(Zp is leaf) \n",
        "    return false (Bounding box not hidden)\n",
        "  \n",
        "  else (recursive case - recurse from higher level to lower level of zp) \n",
        "    return (Isoccluded (polygon p, zp.child[0]) &&\n",
        "            Isoccluded (polygon p, zp.child[1]) &&\n",
        "            Isoccluded (polygon p, zp.child[2]) &&\n",
        "            Isoccluded (polygon p, zp.child[3]))\n",
        "\n",
        "\n",
        "```"
      ],
      "metadata": {
        "id": "0U6W2jNS6j_5"
      }
    },
    {
      "cell_type": "markdown",
      "source": [
        "**Temporal coherence**\n",
        "\n",
        "* Polygons visited in the last frame in z-buffer will probably be in the next frame of z-buffer\n",
        "  * Fasten the rendering \n",
        "* Use a list and add all the octree cells which were visible in the last frame.\n",
        "  * First render the cells in the list (visible in the last frame)\n",
        "  * Add/remove the  new visible cells from list after removal  "
      ],
      "metadata": {
        "id": "Pv1XAXGVViEv"
      }
    },
    {
      "cell_type": "markdown",
      "source": [
        "## Rendering algorithm "
      ],
      "metadata": {
        "id": "iel7UAz1N2_-"
      }
    },
    {
      "cell_type": "markdown",
      "source": [
        "1. Traverse octree front-to-back from viewer position\n",
        "  * Why front to back ?\n",
        "    * To handle occlusion \n",
        "2. Check visibility \n",
        "  * For each visited octree cell with z-pyramid \n",
        "3. If visible, render polygons of the octree cell node and traverse the children "
      ],
      "metadata": {
        "id": "K3eEwkVhPKb9"
      }
    }
  ]
}