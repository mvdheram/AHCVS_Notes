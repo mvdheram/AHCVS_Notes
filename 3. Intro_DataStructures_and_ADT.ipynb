{
  "nbformat": 4,
  "nbformat_minor": 0,
  "metadata": {
    "colab": {
      "name": "3. Introduction and ADT.ipynb",
      "provenance": [],
      "toc_visible": true,
      "include_colab_link": true
    },
    "kernelspec": {
      "name": "python3",
      "display_name": "Python 3"
    },
    "language_info": {
      "name": "python"
    }
  },
  "cells": [
    {
      "cell_type": "markdown",
      "metadata": {
        "id": "view-in-github",
        "colab_type": "text"
      },
      "source": [
        "<a href=\"https://colab.research.google.com/github/mvdheram/AHCVS_Notes/blob/main/3.%20Intro_DataStructures_and_ADT.ipynb\" target=\"_parent\"><img src=\"https://colab.research.google.com/assets/colab-badge.svg\" alt=\"Open In Colab\"/></a>"
      ]
    },
    {
      "cell_type": "markdown",
      "metadata": {
        "id": "YaLoSWY9x0Gq"
      },
      "source": [
        "# What is Data structures ?\n",
        "\n",
        "* A way of organizing data in memory for **efficient** use.\n",
        "* **Ingredients** for creating fast and poweful **algorithms**.\n",
        "* Efficient organization of data to solve general problems (search, sort) with arbitrary sized inputs. "
      ]
    },
    {
      "cell_type": "markdown",
      "metadata": {
        "id": "zG6WeZ6KotWr"
      },
      "source": [
        "## Abstract data type(Interfaces) vs Data structures \n"
      ]
    },
    {
      "cell_type": "markdown",
      "metadata": {
        "id": "zgNQ9fQPDVvD"
      },
      "source": [
        "### ADT (Defines \"What\", \"Specification\") \n",
        "  * Abstraction of data type which provides **interface to data structure**\n",
        "    * Specifies \n",
        "      * What data can be stored \n",
        "      * What Operation  are supported\n",
        "  * **Equivalent to Problem statement** \n",
        "  * E.g\n",
        "    * **List, Queue, Map, etc.**\n",
        "\n",
        "\n",
        "\n",
        "  "
      ]
    },
    {
      "cell_type": "markdown",
      "metadata": {
        "id": "wk0kV5wjJiDU"
      },
      "source": [
        "### Data structure (Defines \"How\", \"Implementation\")\n",
        "  * **Representation of data**\n",
        "  * Specifies\n",
        "    * How to store data\n",
        "    * How to support the operations (Algorithms)\n",
        "  * **Equivalent to solution** \n",
        "  * E.g.\n",
        "    * **Dynamic Array, linked list, linked list based queue, etc.**"
      ]
    },
    {
      "cell_type": "markdown",
      "metadata": {
        "id": "5rzx3asmJkJq"
      },
      "source": [
        "Notes:\n",
        "\n",
        "* `Same interface can be used with different data structures`\n",
        "  * E.g. **Queue (ADT)** can be implemented using **stacks, Linked list** "
      ]
    }
  ]
}