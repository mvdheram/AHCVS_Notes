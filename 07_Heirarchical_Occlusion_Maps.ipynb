{
  "nbformat": 4,
  "nbformat_minor": 0,
  "metadata": {
    "colab": {
      "name": "07_Heirarchical Occlusion Maps.ipynb",
      "provenance": [],
      "collapsed_sections": [],
      "toc_visible": true,
      "authorship_tag": "ABX9TyPufVW5UDOPd4gK+l3KNNTQ",
      "include_colab_link": true
    },
    "kernelspec": {
      "name": "python3",
      "display_name": "Python 3"
    },
    "language_info": {
      "name": "python"
    }
  },
  "cells": [
    {
      "cell_type": "markdown",
      "metadata": {
        "id": "view-in-github",
        "colab_type": "text"
      },
      "source": [
        "<a href=\"https://colab.research.google.com/github/mvdheram/AHCVS_Notes/blob/main/07_Heirarchical_Occlusion_Maps.ipynb\" target=\"_parent\"><img src=\"https://colab.research.google.com/assets/colab-badge.svg\" alt=\"Open In Colab\"/></a>"
      ]
    },
    {
      "cell_type": "markdown",
      "source": [
        "# Hierarchical Occlusion Maps \n",
        "\n",
        "Source : https://dl.acm.org/doi/pdf/10.1145/258734.258781?casa_token=yfHnfjHa304AAAAA:O6A0DezAU1zs6d2GIbNPzW6XSaDzixmUOeUt7puubSqBpSBU27iy_TRAocEQy86hW5JGWuCrJUc0sOs"
      ],
      "metadata": {
        "id": "CB59T1KlIQbS"
      }
    },
    {
      "cell_type": "markdown",
      "source": [
        "**Why?**\n",
        "* **Visibility culling algorithm dealing with small occluders to achieves significant speedup in interactive walkthroughs of models with high depth complexity.**\n",
        "  * Algorithm for Dealing with small occluders\n",
        "    * Aggregated occluders : Composition of many small occluders aggregate to large occluders based on viewpoint \n",
        "    * Uses :\n",
        "      * Occluder fusion  (Union set of occluders)\n",
        "\n",
        "**What?**\n",
        "* HOM : **Records the aggregate projection of occluders** onto the image plane\n",
        " **at different resolutions**.\n",
        "  * **Hierarchical maps capture the cumulative occluding effects of the occluders**\n",
        "\n",
        "**How?**\n",
        "  * 2 Tests for visibility problem (occlusion culling)\n",
        "    * Overlap test\n",
        "      * Test potential occludee lies within (overlaps) the screen porjection  of aggregated occluders.\n",
        "      * Uses : \n",
        "        * Occlusion maps\n",
        "    * Depth test\n",
        "      * Test potential occludee lies beind the occluders \n",
        "      * Uses :\n",
        "        * Depth estimation buffer"
      ],
      "metadata": {
        "id": "3QKQFcEVW_NR"
      }
    },
    {
      "cell_type": "markdown",
      "source": [
        "## Modified Rendring pipeline "
      ],
      "metadata": {
        "id": "d9xTdtFUT-rB"
      }
    },
    {
      "cell_type": "markdown",
      "source": [
        "**2 new stages in rendering piepline**\n",
        "\n",
        "  * For reach frame :\n",
        "    1.  Construction of the Occlusion Map Hierarchy\n",
        "    2. Visibility Culling with Hierarchical Occlusion Maps and rendering "
      ],
      "metadata": {
        "id": "iaxwsh7DWbcd"
      }
    },
    {
      "cell_type": "markdown",
      "source": [
        "### Construction of Occlusion Map Hierarchy "
      ],
      "metadata": {
        "id": "gTJnTEt1ZTUE"
      }
    },
    {
      "cell_type": "markdown",
      "source": [
        "Pipeline consists of 5 stages :\n",
        "\n",
        "1. **Occluder database** :\n",
        "    * Computed in preprocessing stage from the model database\n",
        "      * Why ?\n",
        "        * Temporal coherence Selecting occluders from the previous frame.\n",
        "    * Occluders stored in bounding volume hierarchy\n",
        "      * What is bounding volume hierarchy ?\n",
        "        * Spatial data structure similar to BSP trees for clustering objects hierarchically using sphere or boxes (tree structure)\n",
        "    * All objects of 3D scene are examined and occluder objects selected when \n",
        "      * Objects not below certain size (small objects)\n",
        "      * Objects which are not too complex \n",
        "\n",
        "2. View frustum culling \n",
        "  * The algorithm traverses the bounding volume hierarchy of the occluder database to find occluders lying in the viewing frustum.\n",
        "\n",
        "3. Occluder selection  \n",
        "  * The algorithm selects a subset of the\n",
        "occluders lying in the viewing frustum.\n",
        "  * How?\n",
        "    * Sort all found occluders by distance and starting from the camera position, choose successive occluders\n",
        "until a maximum value of polygon complexity (polygon count)/limit is reached.\n",
        "    * It utilizes temporal\n",
        "coherence between successive frames.  \n",
        "\n",
        "4.  Occluder rendering \n",
        "  * Selected occluders are rendered as black and white image in frame buffer, where white pixel represents occluded objects.\n",
        "  * A depth estimation buffer is built to record\n",
        "the depth of the occluders.\n",
        "\n",
        "5. Computation of occlusion map hierarchy\n",
        "  * After rendering the occluders into black and white image, the pixel are recursively coarsened by combining and applying mean filter for blocks of pixel. \n"
      ],
      "metadata": {
        "id": "o8aw29WWZcz_"
      }
    },
    {
      "cell_type": "markdown",
      "source": [
        "### Visibility culling and rendering "
      ],
      "metadata": {
        "id": "fsr_JJ6dZXWn"
      }
    },
    {
      "cell_type": "markdown",
      "source": [
        "Pipeline consists of 3 stages :\n",
        "\n",
        "Traverse the bounding volume hierarchy of  model database\n",
        "  1. View frustum culling \n",
        "    * Apply view frustum culling to the model database.\n",
        "  2. Depth comparison\n",
        "    * Potential occludee, are conservatively checked whether it is behind occluders.\n",
        "  3. Overlap test with occlusion maps\n",
        "    * Traverse occlusion map hierarchy from low resolutiton to high resolution and check if 2D projection of occludee overlaps the \"opaque/white pixel\" part of occlusion map.  \n"
      ],
      "metadata": {
        "id": "Tdpq4xU0ovbH"
      }
    },
    {
      "cell_type": "markdown",
      "source": [
        "#### Occlusion map"
      ],
      "metadata": {
        "id": "SW4OUZO1WwcI"
      }
    },
    {
      "cell_type": "markdown",
      "source": [
        "**Opacity** \n",
        "  * **Ratio of colored pixel to total number of pixel** \n",
        "  * How ?\n",
        "    * Project the occluder objects into 2D image space using frame buffer\n",
        "    * Some pixels are colored while other are colorless (blank/white)\n",
        "\n",
        "**Occlusion map** \n",
        "* **An occlusion map is a two-dimensional\n",
        "array in which each pixel records the opacity of a rectangular block\n",
        "of screen space.** \n",
        "* Any rendered image can have an occlusion map with opacity values stored per pixel. \n",
        "\n",
        "**Computation of occlusion map**\n",
        "  * **Render occluders as complete white objects in frame buffer. This forms occlusion map with highest resolution**\n",
        "  * Hierarchical occlusion map is formed by aggregation of multiple occluders in the 2D imgae space.\n",
        "    * How?\n",
        "      * Merge 2x2 pixel values of highest resolution (lower layer) recursively (by taking mean) to higher levels (coarser resolution).\n",
        "      * **Improvement of hierarchy construction** \n",
        "        * Idea : **Occlusion map of 2N * 2N to N*N using texture memory**\n",
        "        * How ?\n",
        "          * Render occlusion map of highest resolution 2N*2N into frame buffer\n",
        "          * Load the rendered image into texture memory\n",
        "\n",
        "**Visibility culling using occlusion map**\n",
        "  1. **Overlap test with occlusion maps**\n",
        "    * How?\n",
        "      1. The corners of the 3D boundingbox of object is projected into image space -> 2D bounding box(image space)\n",
        "      2. Use HOM and **determine the *level* of hierarchy** where the size of pixel (HOM) matches size of  2D boundingbox. \n",
        "        * At that level **check** if **intersected pixel in HOM completely overlap.**\n",
        "        * If not, go deeper into hierarchy and check the subpixels intersection.\n",
        "        * If all the intersected pixel in HOM corresponds to opaque(white pixel in HOM) then the object is completely inside of an aggregated occluder.\n",
        "  2. **Depth test** \n",
        "    * Why ?\n",
        "      * Determine the position of ocludee (behind occluders) after overlap test.\n",
        "    * How ?\n",
        "      1. Variant 1 (single z-value test)\n",
        "        * Store z-plane (farthes z-value) of aggregated occluders\n",
        "      2. Variant 2 (multiple z-value test using depth buffer)\n",
        "        * Create a depth buffer (2D ) with individual z-value of all occluders\n",
        "        * Project object to be tested into the 2D image space\n",
        "        * Compute the closest z value\n",
        "        * Check against depth buffer\n",
        "\n",
        "**Approximate visibility culling**\n",
        "\n",
        "* If the scene consists of aggregated occluders where there are some small haps/holes.\n",
        "  * Treat these holes as of they were closed by occluders\n",
        "  * Thus not render the objects visible through these holes\n",
        "* **Why ?**\n",
        "  * Accelerate the rendering speed \n",
        "\n",
        "\n",
        " "
      ],
      "metadata": {
        "id": "M7fWF0JIWyb2"
      }
    }
  ]
}