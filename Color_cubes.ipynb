{
  "nbformat": 4,
  "nbformat_minor": 0,
  "metadata": {
    "colab": {
      "name": "Color cubes.ipynb",
      "provenance": [],
      "toc_visible": true,
      "authorship_tag": "ABX9TyPbHZ4Gb5vGs1YE3FH64WHu",
      "include_colab_link": true
    },
    "kernelspec": {
      "name": "python3",
      "display_name": "Python 3"
    },
    "language_info": {
      "name": "python"
    }
  },
  "cells": [
    {
      "cell_type": "markdown",
      "metadata": {
        "id": "view-in-github",
        "colab_type": "text"
      },
      "source": [
        "<a href=\"https://colab.research.google.com/github/mvdheram/AHCVS_Notes/blob/main/Color_cubes.ipynb\" target=\"_parent\"><img src=\"https://colab.research.google.com/assets/colab-badge.svg\" alt=\"Open In Colab\"/></a>"
      ]
    },
    {
      "cell_type": "markdown",
      "source": [
        "# Color cubes\n",
        "\n",
        "Paper : https://homes.cs.washington.edu/~bradc/cv/pubs/conferences/gi96.pdf"
      ],
      "metadata": {
        "id": "I7rb5UmY2QwQ"
      }
    },
    {
      "cell_type": "markdown",
      "source": [
        "**What ?**\n",
        "  * **Approximation algorithm** \n",
        "    * *It is a hierarchical method that **accelerates the rendering process** without greatly sacrificing image quality.* [https://homes.cs.washington.edu/~bradc/cv/pubs/conferences/gi96.pdf]\n",
        "\n",
        "**Why ?**\n",
        "\n",
        "* **Handle scenes with partially transparant group of objects occluding each other** \n",
        "  * Level of details and occlusion culling approaches does not work\n",
        "  * E.g. :\n",
        "    * **Objects arranged in straight line with partial occulusion**\n",
        "* How to render when\n",
        "  * **Number (objects) > Number (trianlges)**  ??\n",
        "* **Accelerate rendering of complex scenes partially transparant group of objects.**\n",
        "\n",
        "   \n",
        "\n",
        "**How ?**\n",
        "\n",
        "  * Group large number of similar objects hierarchically as cluster\n",
        "  * Replace the cluster with substitute/replacement - color cubes\n",
        "    * Render the approximate color and opacity (color cube) of object rather than triangles if projected size on image plane is small to reduce the rendering cost. \n",
        "    ---  \n",
        "  * Details :\n",
        "      * **Pre-procesing**\n",
        "        * Uses : Octree data structure\n",
        "          * Subdivide the scene using octree \n",
        "          * Each node in the hierarchy/octree represents a region of the scene, or cell.   \n",
        "          * Associated with each octree cell is an\n",
        "  approximation using a color-cube — \n",
        "            * Color-cube : A cube with a color and opacity associated with each of its six faces \n",
        "      * **Rendering**  \n",
        "        * This approximation can be rendered in less time than the geometry within the cell, and\n",
        "is used in place of the geometry when the projected size\n",
        "of the cell on the image plane is sufficiently small. [https://homes.cs.washington.edu/~bradc/cv/pubs/conferences/gi96.pdf\n",
        "\n",
        "    ---\n",
        "\n"
      ],
      "metadata": {
        "id": "F8XY2ZhJ2Ztx"
      }
    },
    {
      "cell_type": "markdown",
      "source": [
        "## Color cubes approach \n",
        "\n"
      ],
      "metadata": {
        "id": "JH9Wq1qR7rhC"
      }
    },
    {
      "cell_type": "markdown",
      "source": [
        "**Approximation approach** \n",
        "1. Group similar groups of objects into cluster \n",
        "  * Clustering can be done hierarchically (clustering group of similar cluster)\n",
        "2. Replace the cluster \n",
        "  * Choices\n",
        "    * Replace entire group by images(texture)\n",
        "      * Replace the object with texture \n",
        "        * *Texture : Texture mapping is the process of taking a 2D image and mapping onto a polygon in the scene. This texture acts like a painting, adding 2D detail to the 2D polygon.* \n",
        "    * Compute new polygon meshes (approximated polygon)\n",
        "      * *Polygon meshes : Collection of lines, vetices, faces that define an object.*  \n",
        "\n",
        "**Color cubes approach :**\n",
        "\n",
        "* **Pre-processing** \n",
        "  1. Construct 3D octree subdivision of input scene.\n",
        "    * All triangles stored in leaves\n",
        "    * Overlapping children (cutting boundary of octree cells)\n",
        "      * Store several times in all overlapping children (can be handled by GPUs)\n",
        "  2. Store color cube (same size as the octree cell) in each octree cell (inner nodes). Each side of color cube has a color and opacity value. \n",
        "    * **Color-cube**\n",
        "      * Replace the cluster of objects of an area by approximated colored cube \n",
        "      * Each side of color cube consists of \n",
        "        * Color \n",
        "        * Opacity (transparency value)\n",
        "          * 1.0 opaque\n",
        "          * 0.0 transparant \n",
        "    * **Why color cube?**\n",
        "      * The color and transparency approximate an orthogonal view of the triangles stored in the cell.\n",
        "      * **Computed in pre-processing**\n",
        "* **Rendering** \n",
        "  3. Traverse the octree to render the scene \n",
        "  ```\n",
        "    Render(octree cell)\n",
        "      \n",
        "      if (no octree cell overlap frustum)\n",
        "        * return\n",
        "      \n",
        "      if projected size of octree cell <= threshold \n",
        "        * Render color cube of the octree cell\n",
        "      \n",
        "      else if octree cell is leaf \n",
        "        * Render the trianlges of the cell \n",
        "          * projected size can be > threshold, but render triangles as they are leaf nodes not inner nodes \n",
        "      \n",
        "      else (projected size > threshold)\n",
        "        for all children of the octree cell(back to front)\n",
        "        * Render(child) - Recurse \n",
        "  ```\n",
        "\n",
        "---\n",
        "\n",
        "* Threshold typically set to no longer than one pixel \n",
        "  * Why ?\n",
        "    * Color cube approximation only spans a pixel\n",
        "    * Larger values of\n",
        "threshold can also be used to render lower-quality images in less\n",
        "time.\n",
        "  * Larger values of threshold means not going deep into tree, so no need to render triangles\n",
        "\n",
        "* Projected size of octree cell depends on the view point\n",
        "  * The **projected size (leaf nodes of octree nearer to view point frustum == inner nodes of octree farther from view point frustum)**.\n",
        "  * Hence, color cubes are rendered for leaf nodes nearer to frustum and color cubes of inner nodes rendered for inner nodes farther from frustum\n",
        "    * Rendering color cubes saves the rendering time as child nodes are not visited for color cube rendered octree cell.\n",
        "\n",
        "---\n",
        "\n",
        "**Pre-processing phase**\n",
        "\n",
        "* Construction of \n",
        "  * Octree and distribution of trianlges\n",
        "    * Start with root node containing entire trianlges of scene.\n",
        "    * Recursively subdivide the root scene and distrubute triangles into children node.\n",
        "      * Stopping condition for subdivision \n",
        "        * Determine experimentally with the number of triangle to be stored in leaves as estimate.  \n",
        "  * Color cubes (children -> parents)\n",
        "    1. Leaves (initial)\n",
        "      * **Why ?**\n",
        "        * Color cubes of inner nodes are based on leave nodes\n",
        "      * **How ?**\n",
        "        * For 6 sides of octree cell \n",
        "          * Compute color and opacity per side of octree cell\n",
        "            * Render the image (Rasterization) of the different views/sides of octree cell  by orthographic projection.\n",
        "            * Compute \n",
        "                * Color value  : Compute average of the rastered pixel of the image\n",
        "                * Opcity value : percent of pixe of the face\n",
        "            * Save the alpha (opacity) value along with color value\n",
        "            ---\n",
        "            * Orthographic projection :\n",
        "              * Projection of 3D object to 2D screen\n",
        "              * Parallel projection based on view point \n",
        "                * Project the object based on view point (6 view points front,rear, left.. for cube) onto projection plane \n",
        "            * Rasterization : \n",
        "              * Render object by placing the objects onto pixel grid and color the pixel the object covers by testing the distance/depth value (z-value) of object and pixel.\n",
        "                \n",
        "                Algorithm :\n",
        "                * if (depth(object) < depth(pixel) )\n",
        "                  * Color(pixel with object)\n",
        "                * else\n",
        "                  * Discard object  \n",
        "            ---\n",
        "  \n",
        "    2. Internal nodes \n",
        "      * Calculate color-cube based on color cubes of children\n",
        "      * **How ?**\n",
        "        * For all six sides of octree cell : \n",
        "          * **Calculate the pairwise weighted average (based on opacity values alpha of children color cube) of color values of the 8 children to get color cube of parent node.**\n",
        "          ---\n",
        "          1. Piece-wise average of color value taking into account transparancy value alpha (8 child color cubes) -> 4 color cubes\n",
        "          2. Average of color values (4 color cube) -> single color cube (parent)\n",
        "          ---\n",
        "            * **How?**\n",
        "              * Considering the front side, calculate piece-wise average of front and back color cube values. \n",
        "              * Results in color cube having 4 children after piece wise average of 8 children\n",
        "              * Average the 4 color values of color cube to produce single color for each side.  \n",
        "\n",
        "\n"
      ],
      "metadata": {
        "id": "qs3jHctn74Yd"
      }
    },
    {
      "cell_type": "markdown",
      "source": [
        "## Runtime analysis \n",
        "\n",
        "* **Rendering algorithm has run time of O(log(n))**\n",
        "Two assumption \n",
        "\n",
        "1. Depth of octree cell d = O(log(n))\n",
        "2. The maximum number of geometric primitives per leaf cell is constant."
      ],
      "metadata": {
        "id": "_dgZPXk88sGq"
      }
    },
    {
      "cell_type": "markdown",
      "source": [
        "**Proof**\n",
        "* Divide the frustum into \n",
        "  * Close area (>threshold): Triangles are rendered \n",
        "    * Assumption that there are constant number of cells O(1)\n",
        "  * Wide area (<threshold):  Color cubes are rendered \n",
        "    * Sub frustum corresponding to levels of octree (i)\n",
        "      * Sub frustum is divided into \n",
        "        * d, d-1, d-2 ..\n",
        "        * d - lowest depth of the octree ( render color cubes of leave nodes)\n",
        "        * As depth increases, color cubes of inner nodes are rendered\n",
        "    * As we can render only a constant number of color cubes based on threshold value \n",
        "    * With assumption that depth of octree cell is O(log(n))\n",
        "    * **The rendering time is O(log(n))**\n",
        "  * Frustum tests:\n",
        "    * The number of cells to be tested to cull cells which are not in the frustum\n",
        "    * Takes O(log(n))\n",
        "  * **Overall O(log(n))**\n",
        "\n",
        "           \n",
        "\n"
      ],
      "metadata": {
        "id": "nn9pMzMVoYij"
      }
    }
  ]
}