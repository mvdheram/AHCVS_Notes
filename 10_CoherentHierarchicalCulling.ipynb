{
  "nbformat": 4,
  "nbformat_minor": 0,
  "metadata": {
    "colab": {
      "name": "10_CoherentHierarchicalCulling.ipynb",
      "provenance": [],
      "authorship_tag": "ABX9TyPtpVwBkFf+F1bDm3Za1jbS",
      "include_colab_link": true
    },
    "kernelspec": {
      "name": "python3",
      "display_name": "Python 3"
    },
    "language_info": {
      "name": "python"
    }
  },
  "cells": [
    {
      "cell_type": "markdown",
      "metadata": {
        "id": "view-in-github",
        "colab_type": "text"
      },
      "source": [
        "<a href=\"https://colab.research.google.com/github/mvdheram/AHCVS_Notes/blob/main/10_CoherentHierarchicalCulling.ipynb\" target=\"_parent\"><img src=\"https://colab.research.google.com/assets/colab-badge.svg\" alt=\"Open In Colab\"/></a>"
      ]
    },
    {
      "cell_type": "markdown",
      "source": [
        "# Coherent hierarchical culling\n",
        "\n",
        "Link : https://onlinelibrary.wiley.com/doi/epdf/10.1111/j.1467-8659.2004.00793.x"
      ],
      "metadata": {
        "id": "zxYQjJ89oZ9B"
      }
    },
    {
      "cell_type": "markdown",
      "source": [
        "* **Why ?**\n",
        "  * Graphics hardware (GPU) support occlusion query using z-buffer.\n",
        "  * There is a delay between issuing the query and actual processing in the graphics pipeline. \n",
        "  * **CHC - Algorithm used to optimize occlusion culling queries in complex scenes**\n",
        "* **What ?**\n",
        "  * **Algorithm to optimize usage of hardware occlusion culling queries in complex scenes**\n",
        "* **How ?**\n",
        "  * **Minimize the issued queries and reduces delays due to latency of result (CPU stalls, GPU starvation)**.\n",
        "    * Scheduling of queris using spatial and temporal coherence of visibility.\n",
        "    * Reuse the results of occlusion queries from the last frame in order to initiate and schedule the queries in the next frame."
      ],
      "metadata": {
        "id": "thFCbqfpj4Cl"
      }
    },
    {
      "cell_type": "markdown",
      "source": [
        "**Questions:**\n",
        "\n",
        "* Work done by Rendering pipeline \n",
        "  * GPU ?\n",
        "    * Visivility query (culling), geometry transformation, Rasterization, \n",
        "  * CPU ?\n",
        "    * Application (OpenGL,..) used for triangulation of the 3D scene\n",
        "    * Two steps of disburdening graphics pipeline\n",
        "      * Approximation , visibility culling "
      ],
      "metadata": {
        "id": "S-x-jW0FG2P7"
      }
    },
    {
      "cell_type": "markdown",
      "source": [
        "## Why Background ?\n"
      ],
      "metadata": {
        "id": "-h3LwANhA8up"
      }
    },
    {
      "cell_type": "markdown",
      "source": [
        "* Hierarchical z-buffer algorithm\n",
        "  * \n",
        "\n",
        "* **Main problem**\n",
        "  * Latency betweeen the query and availability result\n",
        "    * CPU sends the visible nodes of data structure to GPU for rendering \n",
        "      * As visibility culling is done at the GPU, CPU has to waite befor processing the next node in DS (Starvation)\n",
        "   * latency causes two problems:   \n",
        "    1. **CPU stalls : Waiting for the visibility query result of the node from GPU** \n",
        "    2. **GPU starvation : GPU waiting for the next node to be rendered.**  "
      ],
      "metadata": {
        "id": "oK9jKNEZBT47"
      }
    },
    {
      "cell_type": "markdown",
      "source": [
        "## CHC Algo"
      ],
      "metadata": {
        "id": "bK9oPNxfgMEs"
      }
    },
    {
      "cell_type": "markdown",
      "source": [
        "**Solution** : **multiple occlusion queries for independent scene parts**\n",
        " \n",
        "\n",
        "CHC exploits Temporal coherence by\n",
        "\n",
        "1. **Initiate occlusion query** on the **nodes of hierarchy** where **traversal terminated in the laste frame**\n",
        "  * Avoid queries on previously visible interior nodes\n",
        "\n",
        "2. Assume previously visible leaf node is visible and render geometry without waiting\n",
        "\n",
        "3. All the occlusion queries are store in query queue until the GPU result is known.\n"
      ],
      "metadata": {
        "id": "98EQgiy0hs42"
      }
    },
    {
      "cell_type": "markdown",
      "source": [
        "### Algorithm overview"
      ],
      "metadata": {
        "id": "mgoydUtwtFUZ"
      }
    },
    {
      "cell_type": "markdown",
      "source": [
        "1. Traverse the kd-tree in **front to back order**; skip Opened nodes and traverse termination nodes \n",
        "  * Apply occlusion query for termination nodes\n",
        "    * **What?** \n",
        "      * At each frame of the tree traversal, there are\n",
        "        * **Termination nodes (Ti)**\n",
        "          * Group of nodes at depth d of the tree where the tree traversal has been terminated for the laste frame.\n",
        "          * Consists of \n",
        "            * leaf nodes\n",
        "            * Invisible nodes \n",
        "        * **Opened nodes (Oi)**\n",
        "          * Interior nodes that have been classified as visible in the last frame.\n",
        "\n",
        "2. Issue occlusion query for termination nodes \n",
        "  * For Leaf node\n",
        "    * Visible  \n",
        "      * Issue query and store in query queue\n",
        "      * Render geometry without waiting\n",
        "    * Invisible\n",
        "      * Issue query and store in query queue\n",
        "      * Dont render the node\n",
        "\n",
        "3. Check Query queue\n",
        "  * If query result  \n",
        "    * Available\n",
        "      * If node result == visible: \n",
        "          1. Process children recursively \n",
        "          2. Remove the visible node (becomes open node) and include the children to be processed into termination nodes.\n",
        "            * Pull down the termination nodes (nodes at depth d of the kdtree) after traversal of the node \n",
        "      * If node result == Invisible\n",
        "          * If node == inner node\n",
        "              * Check if the siblings of the parent are invisible as well.\n",
        "              * If true, the parent node becomes invible \n",
        "                * Pull up termination node ( remove the children from the termination node and add parent to the termination node) \n",
        "\n",
        "     * Not available\n",
        "      * Continue recursively processing other nodes of kd tree     \n",
        "  "
      ],
      "metadata": {
        "id": "Tjyf_zr_tHsZ"
      }
    }
  ]
}