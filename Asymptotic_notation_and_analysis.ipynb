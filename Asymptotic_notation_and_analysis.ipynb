{
  "nbformat": 4,
  "nbformat_minor": 0,
  "metadata": {
    "colab": {
      "name": "Asymptotic notation and analysis",
      "provenance": [],
      "toc_visible": true,
      "authorship_tag": "ABX9TyNXqsG9n7iBdFQg3j1Gc0TU",
      "include_colab_link": true
    },
    "kernelspec": {
      "name": "python3",
      "display_name": "Python 3"
    },
    "language_info": {
      "name": "python"
    }
  },
  "cells": [
    {
      "cell_type": "markdown",
      "metadata": {
        "id": "view-in-github",
        "colab_type": "text"
      },
      "source": [
        "<a href=\"https://colab.research.google.com/github/mvdheram/AHCVS_Notes/blob/main/Asymptotic_notation_and_analysis.ipynb\" target=\"_parent\"><img src=\"https://colab.research.google.com/assets/colab-badge.svg\" alt=\"Open In Colab\"/></a>"
      ]
    },
    {
      "cell_type": "markdown",
      "source": [
        "# Efficienct algorithm vs fast computer "
      ],
      "metadata": {
        "id": "WaYf24f7N9tN"
      }
    },
    {
      "cell_type": "markdown",
      "source": [
        "* Efficiency \n",
        "  * The **amount of work done per some time**.\n",
        "  * Two aspects \n",
        "    1. Size/ amount of work done \n",
        "      * Can be measured by taking a constant time (amount done/ second)\n",
        "    2. Time \n",
        "\n",
        "* Efficient algorithm (Relative)\n",
        "  * If Two algorithms (A, B) solve the same problem, then we can say **algorithm** A is efficent if it **takes less number of steps** to solve the problem when compared to B.\n",
        "    * E.g. \n",
        "      1. Algorithm  A - n work to complete task \n",
        "      2. Algorithm B - n^2  work to complete same task\n",
        "\n",
        "      => Algorithm A is efficient\n",
        "\n",
        "* Computation power of computers\n",
        "  * Computers that can **handle higher number** of instruction per second.\n",
        "  \n",
        "* As computation power increases \n",
        "  * It is the **algorithm efficiency that really determines**\n",
        "    * **Running time efficiency** with increase in problem size (input size) \n",
        "    * **Efficiency of amount of work/size of problem** that can be solved.   \n",
        "  * E.g. http://www.cs.ox.ac.uk/files/7065/asymptotics.pdf\n",
        "    * As computation power (steps per second) is increased and complexity (steps of algorithm) is worsend  (n,n^2, n^3, 2^n), there is \n",
        "      * Marginal increase in the amount of work (size) done per unit time\n",
        "      * Large decrease in the speed (Time)"
      ],
      "metadata": {
        "id": "NF6PtDDRN-QC"
      }
    },
    {
      "cell_type": "markdown",
      "source": [
        "# Asymptotic notation"
      ],
      "metadata": {
        "id": "EH7Yhtm3J5Bb"
      }
    },
    {
      "cell_type": "markdown",
      "source": [
        "* Why ?\n",
        "  * Analyze algorithms\n",
        "  * Algorithm can be considered as a function with certain number of inputs \n",
        "    * *f(n)* \n",
        "      * n - input size\n",
        "      * f - function \n",
        "\n",
        "* What ?\n",
        "  * Asymptotic Notations are **notations** that allow us to **analyze an algorithm's running time** by identifying its **behavior as the input size for the algorithm increases to n**. http://www.cs.ox.ac.uk/files/7065/asymptotics.pdf\n",
        "\n",
        "  * 3 classes of notations \n",
        "    1. Big O (**Aymptotic upper bound**)\n",
        "      * An algorithm takes **atmost/less than or equal to** big O(-) time\n",
        "    2. Big Omega (**Asymptotic lower bound**)\n",
        "      * An algorithm takes **atleast /greator than or equal to** big omega O(-) time\n",
        "    3. Big Theta (**Asymptotic tight bound** - between lower and upper bound)\n",
        "      * An algorithm takes **not less than and not greater than** big theta (-) time\n",
        "\n",
        "* How ?\n",
        "  * Asymptotic analysis - Classifying functions (algorithm) into a 3 classes \n",
        "    * Ignore lower order terms\n",
        "    * Ignore constants \n",
        "\n",
        "* **Note**\n",
        "  * Each bound whether upper, lower or tight can be bounded as tight or loose bounds.\n",
        "  * Definition changes from less than or equal to -> less than \n",
        "    * Example : Upper bound\n",
        "      * Big-O (Loose upper-bound (<=))\n",
        "      * Little-o (Tight upper-bound (<))\n",
        "    \n"
      ],
      "metadata": {
        "id": "VmXVJ9TvJ-C9"
      }
    },
    {
      "cell_type": "markdown",
      "source": [
        "# Asymptotic analysis \n",
        "\n",
        "Source : https://www2.cs.arizona.edu/classes/cs345/summer14/files/bigO.pdf"
      ],
      "metadata": {
        "id": "YTBpdu82Qd-7"
      }
    },
    {
      "cell_type": "markdown",
      "source": [
        "Analysing algorithms and classifying them into asynptotic upper lower and tight bounds.\n",
        "\n",
        "1. Big O \n",
        "  * An algorithm/function **f(n) is O(g(n))** - g(n) being the **asymptotic upper bound iff**\n",
        "    * For large enough values of n, the running time is atmost g(n)  \n",
        "        `f(n) <= c.g(n) for some constant c>0`\n",
        "2. Big Omega \n",
        "  * A function **f(n) is Omega(g(n))** - g(n) being the **asymptotic lower bound iff**\n",
        "    * For large enough values of n, the running time is atleast g(n)\n",
        "        \n",
        "        `f(n) >= c.g(n) for some constant c>0`\n",
        "3. Big Theta \n",
        "  * A function **f(n) is Theta(g(n))** - g(n) being the **asymptotic tight bound iff**\n",
        "    * For large enough values of n, the running time is between constants c1,c2 such that\n",
        "     \n",
        "      `c1.g(n) <= f(n) <= c2.g(n)`\n",
        "\n"
      ],
      "metadata": {
        "id": "4lCZgbL9YU60"
      }
    },
    {
      "cell_type": "markdown",
      "source": [
        "## Big O notation "
      ],
      "metadata": {
        "id": "vAn7FSOg1XDN"
      }
    },
    {
      "cell_type": "markdown",
      "source": [
        "**Big-O notation Complexities(Smallest to largest)**\n",
        "\n",
        "Constant - $O(1)$ < Logarithmic $O(log(n))$ < Linear $O(n)$ < Linearithmic $O(nlog(n))$ < Quadratic $O(n^2)$ < Cubic $O(n^3)$ < Exponential $O(b^n)$, b>1 < Factorial $O(n!)$\n",
        "\n",
        "**General Rules** :       \n",
        "  * Asymptotic analysis cares of only higher order terms in a function i.e. what happens when input size n -> ♾\n",
        "    * Convert the algorithm work done (looping etc.) as a function and apply the big - O rules.\n",
        "      * Ignore constants :\n",
        "        * O(n+c) = O(n)\n",
        "        * O(n*c) = O(c)\n",
        "      * Loop rule:\n",
        "        * **Nested loop** :\n",
        "          * If same work done  : Complexities should be multiplied.\n",
        "          * If second loop depends on first loop : Find the work done in second loop \n",
        "        * Loops in the same level should be added.\n",
        "\n",
        "\n",
        "\n",
        "E.g.:\n",
        "\n",
        "* Constant time :\n",
        "\n",
        "  ```\n",
        "      i = 0 \n",
        "      while i<11 Do\n",
        "        i = i+1\n",
        "  ```\n",
        "  * Run-time : $O(1)$\n",
        "    * Why ?\n",
        "      * The loop does not depend on input size (n)\n",
        "\n",
        "* Linear time :    \n",
        "\n",
        "  ```\n",
        "  i = 0 \n",
        "  while i < n Do\n",
        "    i = i+3\n",
        "  ```\n",
        "  * Run time :\n",
        "    * f(n) = n/3\n",
        "    * O(f(n)) = O(n)\n",
        "\n",
        "* Quadratic time :    \n",
        "\n",
        "  ```\n",
        "  for (i = 0; i < n ; i = i+1)\n",
        "    for (j = i; j<n; j = j+1)\n",
        "  ```\n",
        "  * Run time :  \n",
        "    * As second loop depends on first, calculate the work done by second loop as a function   \n",
        "    * f(n) = second loop \n",
        "      * If outer loop =  0 \n",
        "        * Second loop work = n\n",
        "      * If outer loop = 1\n",
        "        * Second loop = n-1 \n",
        "      * ..\n",
        "      * Outer loop work = n + (n-1) + (n-2) ...3.2.1 == $n(n-1)/2$\n",
        "      * f(n) = $O(n(n-2/2)$ = $n^2$"
      ],
      "metadata": {
        "id": "bJmyAsb51huK"
      }
    }
  ]
}