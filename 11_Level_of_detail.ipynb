{
  "nbformat": 4,
  "nbformat_minor": 0,
  "metadata": {
    "colab": {
      "name": "11_Level_of_detail.ipynb",
      "provenance": [],
      "authorship_tag": "ABX9TyMIn0+NqDuky1SFNN77q1eg",
      "include_colab_link": true
    },
    "kernelspec": {
      "name": "python3",
      "display_name": "Python 3"
    },
    "language_info": {
      "name": "python"
    }
  },
  "cells": [
    {
      "cell_type": "markdown",
      "metadata": {
        "id": "view-in-github",
        "colab_type": "text"
      },
      "source": [
        "<a href=\"https://colab.research.google.com/github/mvdheram/AHCVS_Notes/blob/main/11_Level_of_detail.ipynb\" target=\"_parent\"><img src=\"https://colab.research.google.com/assets/colab-badge.svg\" alt=\"Open In Colab\"/></a>"
      ]
    },
    {
      "cell_type": "markdown",
      "source": [
        "* **Why ?**\n",
        "  * Real time rendering (>20 fps)\n",
        "    * Not possible if al polygons is sent to graphic card \n",
        "* **What ?**\n",
        "  * Display less complex (trianlges) models that looks/ approximate original model/ \n",
        "* **How ?**\n",
        "  * Done during pre-processing,\n",
        "    * Create multiple models(LOD's) of different complexity from the same object, typically 3-5\n",
        "    * In walkthrough phase, use certain LOD depending on the position of the object.\n",
        "  * LOD \n",
        "    * Idea : **Errors are less visible when the projected size of object is small** \n",
        "      * During pre-processing calculate LOD for each object and define distances\n",
        "      * During walkthrough, Render objects based on distance from the viewer\n",
        "    * Types \n",
        "      * Discrete LOD\n",
        "        * Render based on distance by different LODs\n",
        "          * When switched there is a flicker\n",
        "      * Continuos LOD\n",
        "        * Different LODs of resolution encoded in single representation \n",
        "        * **TBD**\n",
        "      * View dependent LOD\n",
        "        * Render near parts of algorithm with high resolution than distant parts of object.\n",
        "  * Simplification\n",
        "    * Decimation\n",
        "    * Sampling\n",
        "    * Vertex matching\n",
        "    * Adaptive subdivision "
      ],
      "metadata": {
        "id": "_U3MeWMwYQPY"
      }
    }
  ]
}