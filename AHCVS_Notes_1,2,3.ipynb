{
  "nbformat": 4,
  "nbformat_minor": 0,
  "metadata": {
    "colab": {
      "name": "AHCVS_Notes_1,2,3.ipynb",
      "provenance": [],
      "collapsed_sections": [],
      "toc_visible": true,
      "authorship_tag": "ABX9TyN2mEhms9cAE4UEQvzv5Rt+",
      "include_colab_link": true
    },
    "kernelspec": {
      "name": "python3",
      "display_name": "Python 3"
    },
    "language_info": {
      "name": "python"
    }
  },
  "cells": [
    {
      "cell_type": "markdown",
      "metadata": {
        "id": "view-in-github",
        "colab_type": "text"
      },
      "source": [
        "<a href=\"https://colab.research.google.com/github/mvdheram/AHCVS_Notes/blob/main/AHCVS_Notes_1%2C2%2C3.ipynb\" target=\"_parent\"><img src=\"https://colab.research.google.com/assets/colab-badge.svg\" alt=\"Open In Colab\"/></a>"
      ]
    },
    {
      "cell_type": "markdown",
      "source": [
        "# Chapter 1"
      ],
      "metadata": {
        "id": "DX-IxSBddWBb"
      }
    },
    {
      "cell_type": "markdown",
      "source": [
        "**Why AHCVS** ?\n",
        "\n",
        "* Walkthrough problem and real time rendering \n",
        "  * Static scene with dynamic positions ( viewer moves through the scene, camera position changes)\n",
        "    * E.g. walkthrough HNI new campus\n",
        "  * 3 factors to be considered:\n",
        "    * Smooth Navigation \n",
        "    * Free movement in any direction \n",
        "    * High image quality\n",
        "\n",
        "**Rendering pipeline**:\n",
        "  1. 3D (object coordinates) to 2D (screen coordinates) transformation.\n",
        "    * Remove z - coordinate (height)\n",
        "    * Lightening \n",
        "    * Hidden surface removal \n",
        "      * Z buffer algorithm\n",
        "  2. Rasterization \n",
        "    * Filling triangles with pixels \n",
        "\n",
        "**How rendering pipeline**:\n",
        "\n",
        "Uses: \n",
        "  * primitives (triangles, points, lines..)\n",
        "  * Graphics hardware used for transformation and rasterization \n",
        "    * OpenGL, DirectX (Applications)\n",
        "    * GPU (hardware)\n",
        "\n",
        "**What rendering pipeline**:\n",
        "\n",
        "`3D scene -> Application -> geometric transformation -> Rasterization -> Final image`\n",
        "\n"
      ],
      "metadata": {
        "id": "bCVtZ9JGbiMg"
      }
    },
    {
      "cell_type": "markdown",
      "source": [
        "**Z- Buffer Algorithm**\n",
        "\n",
        "* **Why** ?\n",
        "  * Hidden surface removal \n",
        "\n",
        "* **Uses** ?\n",
        "  * Z - buffer \n",
        "    * Size : 2D array according to image resolution \n",
        "    * Values : z - values (distance between camera and polygon for each pixel)\n",
        "  * Frame buffer\n",
        "    * Size : 2D array according to image resolution \n",
        "    * Values : z - values (Color value for each pixel (RGB))\n",
        "\n",
        "* **What** ?\n",
        "  1. Transformation (polygon to traingles)\n",
        "    2. Comparison (height of new projected polygon (**new z - buffer value**) to already rendered height of pixel values at perticular position (**z- buffer value in memory**)\n",
        "    3. If height of projected polygon (**new z - buffer value**) < pixel value (**z- buffer value in memory**)\n",
        "    4. Then update the z- buffer in memroy with height of projected polygon (**new z - buffer value**)\n",
        "    5. Fill-in the color for the perticular pixel\n",
        "\n",
        "\n",
        "**Advantages with respect to painters algorithm**\n",
        "\n",
        "* Easy to implement.\n",
        "  * Simple harware operations and imlementation \n",
        "* Painter algorithm sorts the polygons with respect to distance ( higher to lower) and colors the pixels.\n",
        "* z - buffer algorithm avoids sorting by using z-buffer.  \n",
        "* Simple parallelization \n",
        "\n",
        "\n",
        "**Disadvantages**:\n",
        "\n",
        "* Each polygon should be rendered \n",
        "  * Rum time increases linearly.\n",
        "* Real time rendering is limited by screen size \n",
        "  * As z- buffer values of image resolution needs to be stored in memory.\n",
        "* Visibility is resolved in pixel level.\n",
        "\n",
        "**Problem**:\n",
        "\n",
        "* Realtime rendering is not possible if polygon count increases \n",
        "  * If each polygon is sent to graphic card, real time navigation (20fps) not possible. \n",
        "\n",
        "\n",
        "**Solution**:\n",
        "* Reduce time complexity ( linear to logerithmic)\n",
        "* Runtime should depend on image resolution rather than the polygons\n",
        "  * Disburden rendering pipeline\n"
      ],
      "metadata": {
        "id": "cKazq9eqe25P"
      }
    },
    {
      "cell_type": "markdown",
      "source": [
        "**Disburden rendering pipeline** :\n",
        "\n",
        "\n",
        "* Accelerate rendering computation:  \n",
        "  * Avoid \n",
        "    * Sending all polygons (Reduce the size of scene to be rendered)\n",
        "    * Frequent state changes (Accelerate computation for rendering geometry) \n",
        "  * Use special GPU/CPU commands (Accelerate computation for rendering geometry)\n",
        "\n",
        "\n",
        "**Approaches** :\n",
        "\n",
        "* Approximation - Level of Detail\n",
        "  * Render less complex model \n",
        "* Visibility Computations - Visibility Culling\n",
        "  * Render only visible polygons based on viewer position and cull the invisible polygons. \n",
        "\n",
        "**Disburdened pipeline** :\n",
        "\n",
        "`Geometric 3D models -> Applications -> Approximation & Visibility culling -> Renderer pipeline -> Image` "
      ],
      "metadata": {
        "id": "Ay_N-AfM9zza"
      }
    },
    {
      "cell_type": "markdown",
      "source": [
        "## TBD "
      ],
      "metadata": {
        "id": "AJaMTTjvgsPu"
      }
    },
    {
      "cell_type": "markdown",
      "source": [
        "# Chapter 2 "
      ],
      "metadata": {
        "id": "PIc0F1h9dHen"
      }
    },
    {
      "cell_type": "markdown",
      "source": [
        "Why BSP tree??\n",
        "\n",
        "* Sorting polygons (scene objects) with respect to camera position (Depth sorting)\n",
        "  * Useful in rendering static scene with dynamic \n",
        "\n",
        "Aim :\n",
        "\n",
        "* Computation of BSP tree done in pre-processing \n",
        "* BSP tree must therefore be used for rendering scene with all possible camera position \n",
        "\n",
        "What ?\n",
        "\n",
        "* Spatial data structure for partitioning scene (3D/2D) into regions \n",
        "  * 2D BSP trees - Line segments\n",
        "  * 3D BSP tree - Traingles/ polygons\n",
        "\n",
        "\n",
        "How ?\n",
        "\n",
        "* **Uses splitting line to divide the trianlges/line segments to form clusters of sub region.** \n",
        "* **Property** :\n",
        "  * **Lines/traingles on same side of viewpoint cannot be hidden by lines or trianlges on other side of splitting line** \n",
        "\n",
        "Output :\n",
        "\n",
        "* Binary tree that subdivides the scenes into clusters of region\n",
        "  * Inner Vertices (Nodes)\n",
        "    * Splitting lines (2D)\n",
        "    * Splitting plane (3D)\n",
        "  * Leaves \n",
        "    * Regions / cluster of traingles in space\n",
        "\n",
        "BSP Tree Construction and structure:\n",
        "\n",
        "1. Place splitting line through a straight line segment (2D scene) A.k.A automatic subdivision to subdivide the scene into left and right clusters.\n",
        "  * Splitting lines can be placed arbitrarily.\n",
        "  * Choosing the line segment to place the first splitting line to divide the 2D scene into 2 clusters can be choosen arbitrarily.\n",
        "    * **The first segment chosen for splitting line becomes root of the tree**\n",
        "      * It is an endless line as its the first splitting line.\n",
        "      * Choosing the root impacts the height of the tree\n",
        "      * Height of the tree impacts the run time of rendering the scene.\n",
        "3. Store the line segment and splitting line in each vertex (node)\n",
        "4. Recursively subdivide the regions into left and right subtree /subregions with respect to splitting line until there is one segment (cluster of same segment) in one region.\n",
        "  * Root of the subtree/ the entire BSP tree holds the region of their children. \n",
        "    * All the children of root will be the sub regions of the root node\n",
        "5. Store the leaf segment/ region as leaf of the binary tree.\n",
        "  * Combining all the leaf nodes together gives the entire region of the scene. \n",
        "  \n",
        "\n",
        "Application : \n",
        "\n",
        "* Painters algorithm \n",
        "  * Why ?\n",
        "    * Dealing with occulusion (Overlapping objects)\n",
        "  * How? (Algorithm)\n",
        "    * Depth sorting of trianlges with respect to the viewers distance \n",
        "    * Draw triangles back to front\n",
        "  * Scenario\n",
        "    * Cyclic overlap of trianlges\n",
        "      * Cut the cycle by cutting the triangle into fragments.\n",
        "* Occlusion culling \n",
        "* Rendering of transperent objects\n",
        "\n",
        "\n",
        "Characteristics :\n",
        "\n",
        "* Very efficient for static scenes (static objects with dynamic camera positions)\n",
        "* Linear time for rendering (traversing the BSP tree)\n",
        "* Size of BSP tree is not linear with respect to input size ( polygons ) as\n",
        "\n"
      ],
      "metadata": {
        "id": "4l-4iSoqdbr6"
      }
    },
    {
      "cell_type": "markdown",
      "source": [
        "**Painters algorithm using BSP tree** \n",
        "\n",
        "\n",
        "1. Traverse the BSP tree \n",
        "2. Draw triangles in order from back to front (with respect to viewer position) \n",
        "3. Draw any fragments of triangle (splitting line cutting through the triangle) in inner nodes.\n",
        "\n",
        "Cases :\n",
        "  * View point w.r.t Splitting line \n",
        "    * h+ (right side of the splitting line)\n",
        "    * h- (left side of the splitting line)\n",
        "  * if Viewpoint in  \n",
        "    * h+\n",
        "      * PaintersAlgo(left subtree / T-)\n",
        "      * Draw if any Fragments stored in inner node\n",
        "      * PaintersAlgo(right subtree)\n",
        "    * h-\n",
        "      * PaintersAlgo(right subtree / T+)\n",
        "      * Draw if any Fragments stored in inner node\n",
        "      * PaintersAlgo(left subtree)\n",
        "    * Parallel to splitting line\n",
        "      * PaintersAlgo(right subtree / T+)\n",
        "      * Draw if any Fragments stored in inner node\n",
        "      * PaintersAlgo(left subtree)\n",
        "\n",
        "\n",
        "---\n",
        "\n",
        "**Recursion** \n",
        "* Painter algorithm is **recursive algorithm - (function calls itself with new arguments until the final solution is reached)**.\n",
        "  * Recursion - breaking the problem into subproblem such that each invocation of the method progresses towards solution.\n",
        "  * Each invocation of the method gets added to the call stack (memory organized as stack to store the intermediate values) until the base case is reached. Once the base case is reached, the call stack is popped out.\n",
        "* Recursion has two cases\n",
        "  1. Base case \n",
        "    * Terminal condition (function call ends with a return) \n",
        "      * What is the smallest value that can be passed to the function ?\n",
        "      * Cases :\n",
        "          * Null case ?\n",
        "          * One input value ?\n",
        "          * If solution :\n",
        "            * Found \n",
        "            * Not found\n",
        "  2. Recursive case\n",
        "    * Function calls itself (sub problem call until base case is hit). \n",
        "* Basic algo :\n",
        "    * Pre-processing\n",
        "      1. Break down the problem into sub problem with intermediate solution (recursive case). Formulate the stopping condition (base case).\n",
        "    * Processing\n",
        "      2. Prune the search/problem space by calling the recursive function. \n",
        "      3. Store the recursive call in the call stack in LIFO order untill the base case is reached.\n",
        "    * Post-processing\n",
        "      4. Once the base case is reached, Pop the call stack and calculate the intermediate solutions in the call stack until the goal is reached. \n",
        "\n",
        "E.g. :\n",
        "\n",
        "```\n",
        "public String reverseString(String input)\n",
        "{\n",
        "  # Base case\n",
        "  if (input.length == null){\n",
        "    return \"\";\n",
        "  }\n",
        "\n",
        "  # Recursive call \n",
        "  return reverseString(input.substring(1))+ input.charAt(0);\n",
        "} \n",
        "\n",
        "```\n",
        "\n",
        "Recursion in Binary search trees :\n",
        "\n",
        "* Property :\n",
        "  * Number of children <= 2\n",
        "    * Least  : 0\n",
        "    * Maximum : 2 \n",
        "  * Left child < root < right child\n",
        "    * Holds true recursively for every subtree\n",
        "* Recursive algo for inserting value:\n",
        "\n",
        "```\n",
        "  Node insertNode (head, data):\n",
        "    * Base case :\n",
        "      * If (head node is null) || (we recursively reached the goal position using BST property)\n",
        "        * Create the new node with the data value as head and return\n",
        "    * Recursive case :\n",
        "      * if (head.data < data) # Recurse through right sub tree\n",
        "        * head.right = insertNode(head.right, data)\n",
        "      * else # Recurse through left sub tree\n",
        "        * head.left = insertNode(head.left, data)\n",
        "    * Final return\n",
        "      * Return head # the original root node after recursion \n",
        "    \n",
        "```\n",
        "\n",
        "---\n",
        "\n",
        "**Painters Algorithm**\n",
        "```\n",
        "Painters (Tree T, Viewpoint vp)\n",
        "Let v be the root of T\n",
        "\n",
        "if v is a leaf  # Base case\n",
        "  then draw the fragments/triangles S(v) of the node v\n",
        "\n",
        "else if vp is in h+ (right side of splitting line)\n",
        "  then \n",
        "    Painters(T-, vp) # Back side of viewpoint\n",
        "    draw the fragments S(v) of the node v \n",
        "    Painters (T+, vp) # font side of the viewpoint\n",
        "\n",
        "else if vp is in h- (left side of splitting line)\n",
        "  then \n",
        "    Painters (T+, vp) # Back side of viewpoint\n",
        "    draw the fragments S(v) of the node v\n",
        "    Painters (T-, vp) # font side of the viewpoint\n",
        "\n",
        "else  # Viewpoint exactly in the direction of splitting line\n",
        "  Painters (T+, vp)\n",
        "  Fragments are invisible from the side \n",
        "  Painters (T-, vp)\n",
        "\n",
        "```\n",
        "\n"
      ],
      "metadata": {
        "id": "i453prY8JUU6"
      }
    },
    {
      "cell_type": "markdown",
      "source": [
        "## 2D BSP tree algorithm"
      ],
      "metadata": {
        "id": "mi_2auAfVUUG"
      }
    },
    {
      "cell_type": "markdown",
      "source": [
        "\n",
        "\n",
        "* Input : Set of n line segments S = {s1,s2..}\n",
        "* Ouput : BSP tree of the scene with S segments\n",
        "\n",
        "Steps :\n",
        " \n",
        "* Go from top to bottom ( Root -> children)\n",
        "* Use splitting line to divide the line segments\n",
        "* Continue recursively \n",
        "\n",
        "Choosing the splitting line?\n",
        "\n",
        "* Automatic subdivision  \n",
        "  * Infinetely long splitting line l(s) goes through segment `s`\n",
        "* Arbitrary subdivision \n",
        "  * Splitting line can be placed arbitrarily."
      ],
      "metadata": {
        "id": "O93rq0PBe0N0"
      }
    },
    {
      "cell_type": "markdown",
      "source": [
        "### Computation of the 2d BSP tree with set of line segments S"
      ],
      "metadata": {
        "id": "7sgwbApWVYHp"
      }
    },
    {
      "cell_type": "markdown",
      "source": [
        "\n",
        "\n",
        "Algorithm:\n",
        " * Create a BSP tree T with node v:\n",
        "  * Left subtree T-\n",
        "  * Right subtree T+\n",
        "  * Store triangles which lie exactly in splitting plane in the inner node (S(v))\n",
        "\n",
        "```\n",
        "Algorithm 2dBSP(S):\n",
        "\n",
        "if S <= 1: (base case)\n",
        "\n",
        "  * Create tree T with leaf node containing line segment S\n",
        "   return T\n",
        "\n",
        "else:\n",
        "\n",
        "  * Use splitting line l(s1) with segment s1 as root to split the regions into two sub regions\n",
        "    * S+ (right region w.r.t l(s1)); \n",
        "    * Recurse and contruct T+ (right subtree) = 2dBSP(S+);\n",
        "    * S- (left region w.r.t l(s1))\n",
        "    * Recurse and contruct T- (left subtree) = 2dBSP(S-);\n",
        "\n",
        "  return T\n",
        "```\n"
      ],
      "metadata": {
        "id": "gVJSvTYoFgci"
      }
    },
    {
      "cell_type": "markdown",
      "source": [
        "### Size of 2d BSP tree"
      ],
      "metadata": {
        "id": "0zAx3lQ3VCwA"
      }
    },
    {
      "cell_type": "markdown",
      "source": [
        "**Size (BSP tree) = number of intersected and not intersected segments**\n",
        "  * **Size : Intersected segments (2n) + non intersected segments (n)** \n",
        "\n",
        "    * Intersected segments\n",
        "      * Intersected segments are line segments that are intersected by the splitting line. (of the root segment l(s1))?.\n",
        "      * Intersected segments becomes fragments \n",
        "        * Intersected segment s2 becomes : s2 and s2' => 2 segments\n",
        "\n",
        "**Problem** \n",
        "\n",
        "* **Splitting segment selected leads to different sizes of tree (nodes in tree)**\n",
        "* Size of tree affects runtime and storage space\n",
        "\n",
        "**Solution** :\n",
        "\n",
        "1. **Greedy approach** (making the **locally optimal choice** at each stage):\n",
        "  * **Choose splitting segments that cuts as few other segments as possible.**\n",
        "    * Computation for choosing such splitting segment might be time consuming\n",
        "\n",
        "2. **Randomized approach** (employs a degree of randomness as part of its logic or procedure) \n",
        "  * Good if computation of greedy approach takes more time.\n",
        "\n",
        "\n",
        "\n"
      ],
      "metadata": {
        "id": "kSo6LG-gVbF-"
      }
    },
    {
      "cell_type": "markdown",
      "source": [
        "#### Randomized approach (2dRandom BSP tree)"
      ],
      "metadata": {
        "id": "FYbmDQsa-9qC"
      }
    },
    {
      "cell_type": "markdown",
      "source": [
        "**Randomized approach (2dRandom BSP tree)**\n",
        "\n",
        "```\n",
        "Algorithm 2dRandomBSP(S)\n",
        "  1. Create Random permutation set(S') from set of line segments(S)\n",
        "    * Two varients \n",
        "      1. **Compute random permutation of set**, which leads to different ordering of segments and **select s1 as splitting segment**.\n",
        "      2. For each step, **select splitting segment s from set S randomly**.\n",
        "  2. Feed it to the 2dBSP(S')\n",
        "  3. Return T\n",
        "```\n",
        "\n",
        "* **Expected Size (2dRandomBSP tree)** = **O(nlogn)**\n",
        "\n",
        "\n",
        "\n"
      ],
      "metadata": {
        "id": "TGEt0jZLdLix"
      }
    },
    {
      "cell_type": "markdown",
      "source": [
        "**Expected size of 2dRandomBSP tree Proof** :\n",
        "\n",
        "Size = intersected and non-intersected\n",
        "\n",
        "1. Intersected segments \n",
        "  *  Goal : Find the number of fragments generated when a segment is selected as splitting line.\n",
        "    * Two steps Solution :\n",
        "        1. Compute the **number of fragments generated** if single segment **l(si) chosen as splitting segment**\n",
        "        2. Compute number of fragments generated if all segment n is choosen as splitting segment (based on step 1).\n",
        "2. Non-intersected segments "
      ],
      "metadata": {
        "id": "bXd3uahk_FgQ"
      }
    },
    {
      "cell_type": "markdown",
      "source": [
        "**1. Number of fragments generated by l(si) ?** \n",
        "\n",
        "* Answer using 2 Questions (Running example segments si and sj)\n",
        "\n",
        "  1. Number of segments front/back  of si?\n",
        "    * Answer using **Distance of a segment (sj)**\n",
        "        * **dist (sj) : \"Number of segments between si and sj intersected by l(si)\"**\n",
        "  2. When does si cut sj which is in front(/back)?\n",
        "    * si cuts sj if :\n",
        "      * **si is selected as splitting segment before sj or si is selected as first splitting line**.\n",
        "        * Why ?\n",
        "          * If sj is in front and si is selected as splitting segment, the splitting line of si which is infinite line cuts all the segments in the front of si.\n",
        "    * Else :\n",
        "      *  Another segment **protects sj**.\n",
        "\n",
        "**Ordering of segments matters as an infinite long splitting line drawn through the first segment might cut the segments**\n",
        "\n",
        "* **Probability of intersection one segment**: \n",
        "  * Probability of si intersecting sj is **1 over sum** (**number of segments  between si and sj intersected** by splitting segment l(si) and **including si,sj i.e. 2**).\n",
        "\n",
        "    * `probability(l(si) intersects sj) <= (1/ dist(sj) + 2)` \n",
        "  * Why? \n",
        "    * Used to calculate the **expected number of intersections generated by si**\n",
        "\n",
        "* **Total number of intersections made by *single segment* s** :\n",
        "    * Total number of intersections made by segment s -> **summation ( probability of si intersecting all segments** that are front of si and between sj) **multiplied by 1** as one extra fagment is generated when intersected.\n",
        "\n",
        "  ```\n",
        "      E(number of intersections caused by s) <= summation((1/dist(S')+2)*1)\n",
        "\n",
        "      * Remove the distance function and get a term dependent on n (input set)\n",
        "        * As distance between two segments increase in both direction, 2 is multiplied with summation of all segments and i is substituted for distance function\n",
        "\n",
        "      ▶ <= 2 * (Summation (i = 0 to n-2) (1/i+2))\n",
        "      ▶ <= 2ln(n)\n",
        "\n",
        "  ```\n",
        "\n",
        "* **Total number of intersections made by *n segments*** :\n",
        "\n",
        "  *  Total number of intersections of n segments is n * *(total number of intersections made by single segment)*\n",
        "\n",
        "    ▶ n * (2ln(n)) => 2n ln(n) / **2n log(n)**\n",
        "\n",
        "**Total size of randomized 2dBSP**\n",
        "  * Size/ number of nodes of randmized 2dBSPTotal =  non-intersection segments + number of intersection fragments   \n",
        "\n",
        "  ▶ **Expected Size of Randomized BSP tree = n + 2n ln(n)**\n",
        "\n",
        "  ▶ **Bounding the size of randomized BSP tree = O(n log(n))** \n",
        "    * As big o only cares for significant\\ dominant term\n",
        "\n",
        "\n"
      ],
      "metadata": {
        "id": "3hmgHbq7CBSl"
      }
    },
    {
      "cell_type": "markdown",
      "source": [
        "**Runtime of Randomized2DBSP tree algorithm**\n",
        "\n",
        "* Runtime  = `O(n^2 log(n))`\n",
        "  * Why ?\n",
        "    * Runtime dependent on size of BSP tree `O(nlog(n))` and number of recursive calls`(n)`\n",
        "    * (Recursive calling of S+ and S-) * (Size of BSP tree)\n",
        "      * Runtime = `O(n*nlog(n)) = O(n^2 logn)` \n",
        "\n"
      ],
      "metadata": {
        "id": "FwiWzH-ixGyi"
      }
    },
    {
      "cell_type": "markdown",
      "source": [
        "## 3D BSP tree "
      ],
      "metadata": {
        "id": "gSd48mu245xw"
      }
    },
    {
      "cell_type": "markdown",
      "source": [
        "**Input** : **Trianlges or polygons** or objects in 3D. (***2D surfaces formed after triangulation of 3D scene***)\n",
        "\n",
        "Uses : Splitting plane `h(t)` (3D - version) used to divide the 3D sppace into two halfs `h-`, `h+`\n",
        "\n",
        "**Output** : **BSP tree of the 3D scene** using **splitting plane**.\n",
        "\n",
        "\n",
        "**Splitting plane** :\n",
        "\n",
        "* Automatic subdivision \n",
        "  * Taking the plane of triangle or polygon for defining splitting plane\n",
        "    * Why ?\n",
        "      * When the position of splitting plane cannot be easily determined\n",
        "* Arbitrary subdivision \n",
        "\n",
        "\n",
        "\n",
        "\n",
        "\n",
        "\n",
        "\n",
        "\n"
      ],
      "metadata": {
        "id": "2GxNYqBO5Amv"
      }
    },
    {
      "cell_type": "markdown",
      "source": [
        "### Computation of 3D BSP tree"
      ],
      "metadata": {
        "id": "LEi1_JwM4G9x"
      }
    },
    {
      "cell_type": "markdown",
      "source": [
        "\n",
        "\n",
        "* Input : A set of trianlges S = {t1,t2,...}\n",
        "* Output : A 3D BSP tree for S \n",
        "\n",
        "Algorithm:\n",
        "  * Create a BSP tree T with node v:\n",
        "    * Left subtree T-\n",
        "    * Right subtree T+\n",
        "    * Store triangles which lie exactly in splitting plane in the inner node (S(v))\n",
        "\n",
        "  ```\n",
        "  Algorithm 3dBSP(S):\n",
        "\n",
        "  if S < 1:\n",
        "      then create a tree T with a single leaf node containing object S\n",
        "        return T\n",
        "\n",
        "  else : \n",
        "      Use h(t1) as splitting line to divide the space into two halfs `h+`, `h-`\n",
        "      S+ = set of triangles belonging to left of splitting plane (h+);\n",
        "      T+ = 3dBSP(S+);\n",
        "\n",
        "      S- = set of triangles belonging to right of splitting plane (h-);\n",
        "      T- = 3dBSP(S-);\n",
        "  \n",
        "  return T\n",
        "```\n",
        "\n"
      ],
      "metadata": {
        "id": "-O1tKO2_etET"
      }
    },
    {
      "cell_type": "markdown",
      "source": [
        "### Size of 3D BSP tree "
      ],
      "metadata": {
        "id": "ddaD_2R_4JlW"
      }
    },
    {
      "cell_type": "markdown",
      "source": [
        "**Size of 3D BSP tree** = Number of **intersected trianlge fragments** + **non-intersected triangles** \n",
        "\n",
        "**Problem** : \n",
        "  * Size affects runtime\n",
        "    * Especially number of intersected triangle fragments.\n",
        "    * Greedy approach of selecting the first triangle for drawing a splitting plane might lead to increase in number of intersected triangle fragments.\n",
        "\n",
        "**Approach**\n",
        "  * Randomization \n",
        "    * Select the triangle t1 for drawing splitting plane after random permution of the input set. \n",
        "\n",
        "  ```\n",
        "  Algorithm 3dRandomBSP(S)\n",
        "    * From set S compute random permutation S' = {t1,...}\n",
        "    * T = 3dBSP(S')\n",
        "    * return T\n",
        "  ```\n",
        "\n",
        "  * **Problem** : \n",
        "    * **Size** of Randomized 3dBSP **not computed** so far, based on research.\n",
        "  * **Solution** :\n",
        "    * **Modify the algorithm** and introduce a new operation **free splits**\n",
        "\n"
      ],
      "metadata": {
        "id": "gefh5S0-4RrI"
      }
    },
    {
      "cell_type": "markdown",
      "source": [
        "#### Free Split"
      ],
      "metadata": {
        "id": "QCF5wCvABXxl"
      }
    },
    {
      "cell_type": "markdown",
      "source": [
        "**Definition** \n",
        "  * A **trianlge/line segment/fragment** when **used as splitting line** or plane which **doesnot produce any intersections or further fragments** is a free split.\n",
        "\n",
        "**Why this new operation** ? \n",
        "  * To analyze the size of randomized 3dBSP tree \n",
        "\n",
        "**Modified Randomized algorithm**\n",
        "\n",
        "  * Input : A set of trianlges S = {t1,...}\n",
        "  * Output : A 3D BSP tree for S \n",
        "  \n",
        "  ```\n",
        "  Algorithm 3dRandomFreeSplitBSP(S) \n",
        "\n",
        "    Create from S a random permutation S' = {t1',t2',...}\n",
        "\n",
        "    for i = 1 to n\n",
        "      do \n",
        "        * Use h(t'i) to **divide all the triangles/fragments** that intersects splitting plane.\n",
        "          * Consider reasonable subdivision  \n",
        "        * Use all possible free splits\n",
        "  ```\n",
        "\n",
        "* **Size of 3dBSPRandomFreeSplits algorithm is *O(n^2)*** \n",
        "\n",
        "**Difference between randomized (recursive) version and randomized free split (iterative version)**\n",
        "  * Recursive version \n",
        "    * Uses first plitting plane or line to draw an infinitely long splitting line to divide the space into two halfs\n",
        "    * Then divide the left half and right half sub divisions recursively \n",
        "      * Only the first splitting line divides the entire region.**The second splitting plane cannot intersect the first splitting plane as splitting takes place in the left sub half.**\n",
        "  * Iterative version \n",
        "    *  The second splitting line can intersect the first splitting line and divide the segments into two halfs.\n",
        "      * The number of fragments might increase. Hence we avoid any splitting line where there are no segments produced.\n",
        "\n"
      ],
      "metadata": {
        "id": "TVpATQo0Bokm"
      }
    },
    {
      "cell_type": "markdown",
      "source": [
        "#### Proof (Why Size O(n^2))"
      ],
      "metadata": {
        "id": "eA6gftQlJKgM"
      }
    },
    {
      "cell_type": "markdown",
      "source": [
        "2 Definitions \n",
        "\n",
        "1. Arrangement of lines \n",
        "  * Lines of splitting plane induce \n",
        "    1. Nodes / vertex\n",
        "      * Intersecting point of lines\n",
        "    2. Edges \n",
        "      * The line between two nodes (intersecting point)\n",
        "    3. Faces \n",
        "      * Enclodes region formed by Edges\n",
        "  * **Complexity of arrangement of lines = O(n^2)** i.e. Total number of nodes, egnes and faces\n",
        "2. Zone of Arrangement the lines \n",
        "  * **The number of intersecting faces**, when a line l is placed through arragement of n line segments is zone of the line l.\n",
        "  * **Complexity = O(n)** \n",
        "\n",
        "\n",
        "**Proof of randomized algorithm** \n",
        "  * **Calculate the expected number of fragments formed by a single triangle tk intersected by planes of other triangle** (on the same side of splitting plane of the triangle tk.)\n",
        "    * Let L be the intersecting lines in the plane of triangle tk. \n",
        "      * Counting every intersecting lines of other triangle splitting plane leads to quadratic size (n^2 / n^3) of tree (unfavorable).\n",
        "   * For this \n",
        "      * Consider zone of arrangement of an intersecting line l(tk-1)\n",
        "        * **Place a line through the triangle tk**\n",
        "      * Consider the number of intersections made by intersecting line l(tk-1)\n",
        "        * **Count only the outer faces** to find the number of intersected fragments. \n",
        "          * Inner faces : Faces without boundary (inner side of triangle)\n",
        "          * Outer faces : **Face with *edge* of intersecting line touching the boundary/edge of trianlge tk** (Edge touching the boundary)\n",
        "          * Why?\n",
        "            * **Inner faces donot generate any split as they are free splits**\n",
        "      * **The number of edges of outer faces = O(K)**\n",
        "      * **Expected number of fragments of triangle tk = O(k)**\n",
        "      * **The expected number of fragments by counting all the fragments = O(n^2)**     "
      ],
      "metadata": {
        "id": "NpNlvRZxJXmD"
      }
    },
    {
      "cell_type": "markdown",
      "source": [
        "## Results of size of BSP trees"
      ],
      "metadata": {
        "id": "LY7LIg2aTWYV"
      }
    },
    {
      "cell_type": "markdown",
      "source": [
        "### Size of 2D BSP tree\n"
      ],
      "metadata": {
        "id": "wUE51IJZTaNA"
      }
    },
    {
      "cell_type": "markdown",
      "source": [
        "* **Randomized approach** - ***Non-deterministic (The expected size and run-time is not deterministic and can vary)***\n",
        "  * **Size = O(nlogn)**\n",
        "  * **Run-time = O(n^2 log(n))** \n",
        "\n",
        "* Other algorithm\n",
        "  * **Non-automatic subdivision** - **Deterministic**  \n",
        "      * **Size = O(nlogn)**\n",
        "      * **Run-time = O(n^2 log(n))** "
      ],
      "metadata": {
        "id": "OtY5c2dgTuvO"
      }
    },
    {
      "cell_type": "markdown",
      "source": [
        "### Size of 3D BSP tree "
      ],
      "metadata": {
        "id": "jjjFO8SpTaE1"
      }
    },
    {
      "cell_type": "markdown",
      "source": [
        "* Automatic subdivision \n",
        "  * **Choosing straight line or triangle as splitting plane/ line**\n",
        "    * **Size = O(n^2)**\n",
        "    * **n- non-overlapping triangles = Omega(n^2)** \n",
        "* Non - automatic subdivision (**Not sure**)\n",
        "    * For any set of 𝑛triangles that do not cross, there exists a **Size = O(n^2)**\n",
        "    * For certain arrangements **n - non-overlapping triangles = Omega(n^2)** "
      ],
      "metadata": {
        "id": "MIj0zCXzTwCE"
      }
    }
  ]
}