{
  "nbformat": 4,
  "nbformat_minor": 0,
  "metadata": {
    "colab": {
      "name": "AHCVS_Notes_1,2,3.ipynb",
      "provenance": [],
      "collapsed_sections": [],
      "toc_visible": true,
      "authorship_tag": "ABX9TyN75nIRb9JAkG62IIrH8k2E",
      "include_colab_link": true
    },
    "kernelspec": {
      "name": "python3",
      "display_name": "Python 3"
    },
    "language_info": {
      "name": "python"
    }
  },
  "cells": [
    {
      "cell_type": "markdown",
      "metadata": {
        "id": "view-in-github",
        "colab_type": "text"
      },
      "source": [
        "<a href=\"https://colab.research.google.com/github/mvdheram/AHCVS_Notes/blob/main/AHCVS_Notes_1%2C2%2C3.ipynb\" target=\"_parent\"><img src=\"https://colab.research.google.com/assets/colab-badge.svg\" alt=\"Open In Colab\"/></a>"
      ]
    },
    {
      "cell_type": "markdown",
      "source": [
        "# Chapter 1"
      ],
      "metadata": {
        "id": "DX-IxSBddWBb"
      }
    },
    {
      "cell_type": "markdown",
      "source": [
        "**Why AHCVS** ?\n",
        "\n",
        "* **Real time rendering  of walkthrough systems where viewer moves through the virtual scene** \n",
        "  * *Walkthrough system* : Static 3D virtual scene with dynamic viewing positions \n",
        "  * *Virtual scene* : **Scene consisting of 3D models (representation of *surfaces* of 3D-objects using vertices, edges and faces (triangle) in 3D space using 3 co-ordinates(x,y,z)**)\n",
        "* E.g. application : \n",
        "    * Rendering of virtual production environment (simulations) to detect bottlenecks     \n",
        "* 3 factors to be considered for real time rendering of 3D-virtual scenes:\n",
        "    1. Smooth Navigation \n",
        "    2. Free movement in any direction \n",
        "    3. High image quality\n",
        "\n",
        "**What AHCVS?**\n",
        "  * Rendering algorithms to to reduce highly complex geometric 3D data and to provide a real-time rendering of the data.\n",
        "    * **Efficient algorithms for real time rendering of complex virtual scenes**  \n",
        "\n",
        "**Rendering pipeline**:\n",
        "  * **Rendering of 3D scene onto 2D screen while user moves or interacts with the 3D virtual world.**\n",
        "\n",
        "* **What ?** \n",
        "  * **3D scene** -▶ **Applicaiton** -▶ **Geometric transformation** -▶ **Rasterization** -▶ **Final Image** \n",
        "    1. 3D scene **[RAM, CPU]**\n",
        "      * Scene consisting of Geomtric 3D Models\n",
        "        * The 3D objects in the virtual scene are modelled as triangles(internally vertex-array).\n",
        "          * **3D Models**\n",
        "            * Surfaces of objects (bunny, cups etc) modelled as triangles (polygons) \n",
        "              * Triangular surfaces formed by nodes(vertices), edges. Vertex array used to form edges. \n",
        "              * Each node is represented by 3D cooridnates (x,y,z) in 3D plane. \n",
        "        \n",
        "    2. Application **[RAM, CPU]**\n",
        "      * Walkthrough systems or simulation systems where the 3D scene is visualized.\n",
        "        \n",
        "        * Internally uses libraries such as OpenGL, DirectX which acts as interface between CPU and GPU.\n",
        "    3. Geometric transformation **[V-RAM (GPU video-RAM), GPU]** \n",
        "      * **Input** : Triangles to be rendered\n",
        "        * Transformations such as scaling, clipping, rotations are applied to triangulated object according to the world coordinates. \n",
        "          * E.g.:               \n",
        "                * Remove z - coordinate (height) [*projection of 3D triangle to 2D image space*]\n",
        "                * Lightening \n",
        "                * Hidden surface removal \n",
        "                  * Z buffer algorithm \n",
        "      * **Output** : Triangles to be rendered w.r.t viewer (view frustum culling, backface culling, visibility culling)\n",
        "\n",
        "    4. Rasterization **[V-RAM, GPU]**\n",
        "      * **Input** : View-dependent triangles to be rendered\n",
        "        1. Transformed triangles are projected onto screen coordinates for 2D shaded image (pixel image-coordinates) generation \n",
        "        2. Pixel centers within triangles are identified and colored to be shown on screen.\n",
        "      * **Output** : Grid(widthxheight resolution of image) with colored pixels w.r.t to projected triangles \n",
        "    5. Final image \n",
        "      * Final image to be rendered \n",
        "* **How ?**:\n",
        "  * Uses: \n",
        "    * primitives (triangles, points, lines..), NURBS (Non-uniform rational B-spline)\n",
        "    * Graphics hardware used for transformation and rasterization \n",
        "      * OpenGL, DirectX (Applications)\n",
        "      * GPU (hardware)\n",
        "\n",
        "\n",
        "\n",
        "\n",
        "\n",
        "\n",
        "\n"
      ],
      "metadata": {
        "id": "bCVtZ9JGbiMg"
      }
    },
    {
      "cell_type": "markdown",
      "source": [
        "**Z- Buffer Algorithm**\n",
        "\n",
        "* **Why** ?\n",
        "  * Hidden surface removal \n",
        "\n",
        "* **Uses** ?\n",
        "  * Z - buffer \n",
        "    * Size : 2D array according to image resolution \n",
        "    * Values : z - values (distance between camera and polygon for each pixel)\n",
        "  * Frame buffer\n",
        "    * Size : 2D array according to image resolution \n",
        "    * Values : z - values (Color value for each pixel (RGB))\n",
        "\n",
        "* **What** ?\n",
        "  * Initialize \n",
        "    * Z-buffer values to \"background distance\"\n",
        "    * Frmae-buffer values to \"background color\"\n",
        "\n",
        "  * Z-buffer algorithm \n",
        "    * **For all triangles of object (un-ordered)** \n",
        "      1. Transformation (3D trianlge to 2D traingles)\n",
        "        * Project triangles to image space and transform the vertices to pixel coordinates \n",
        "      * **For all pixels in projected triangle**  \n",
        "          2. Comparison (height of new projected trianlge (**new z - buffer value**) to already rendered height of pixel values at perticular position (**z- buffer value in memory**)\n",
        "            * If height of projected polygon (**new z - buffer value**) < pixel value (**z- buffer value in memory**)\n",
        "            * Then \n",
        "              * Update the z- buffer in memroy with height of projected polygon (**new z - buffer value**)\n",
        "              * Fill-in the color for the perticular pixel\n",
        "            * Else \n",
        "              * The triangle is occluded \n",
        "\n",
        "\n",
        "**Advantages with respect to painters algorithm**\n",
        "\n",
        "* Easy to implement.\n",
        "  * Simple harware operations and imlementation \n",
        "* Painter algorithm sorts the polygons with respect to distance ( higher to lower) and colors the pixels.\n",
        "* z - buffer algorithm avoids sorting by using z-buffer.  \n",
        "* Simple parallelization \n",
        "\n",
        "\n",
        "**Disadvantages**:\n",
        "\n",
        "* Each polygon should be rendered \n",
        "  * Rum time increases linearly.\n",
        "* Real time rendering is limited by screen size \n",
        "  * As z- buffer values of image resolution needs to be stored in memory.\n",
        "* Visibility is resolved in pixel level.\n",
        "\n",
        "**Problem**:\n",
        "\n",
        "* Realtime rendering is not possible if polygon count increases \n",
        "  * If each polygon is sent to graphic card, real time navigation (20fps) not possible. \n",
        "\n",
        "\n",
        "**Solution**:\n",
        "* Reduce time complexity ( linear to logerithmic)\n",
        "* Runtime should depend on image resolution rather than the polygons\n",
        "  * Disburden rendering pipeline\n"
      ],
      "metadata": {
        "id": "cKazq9eqe25P"
      }
    },
    {
      "cell_type": "markdown",
      "source": [
        "**Disburden rendering pipeline** :\n",
        "\n",
        "\n",
        "* Accelerate rendering computation:  \n",
        "  * Avoid \n",
        "    * Sending all polygons (Reduce the size of scene to be rendered)\n",
        "    * Frequent state changes (Accelerate computation for rendering geometry) \n",
        "  * Use special GPU/CPU commands (Accelerate computation for rendering geometry)\n",
        "\n",
        "\n",
        "**Approaches** :\n",
        "\n",
        "* Approximation - Level of Detail\n",
        "  * Render less complex model \n",
        "* Visibility Computations - Visibility Culling\n",
        "  * Render only visible polygons based on viewer position and cull the invisible polygons. \n",
        "\n",
        "**Disburdened pipeline** :\n",
        "\n",
        "`Geometric 3D models -> Applications -> Approximation & Visibility culling -> Renderer pipeline -> Image` "
      ],
      "metadata": {
        "id": "Ay_N-AfM9zza"
      }
    },
    {
      "cell_type": "markdown",
      "source": [
        "## TBD "
      ],
      "metadata": {
        "id": "AJaMTTjvgsPu"
      }
    },
    {
      "cell_type": "markdown",
      "source": [
        "# Chapter 2 "
      ],
      "metadata": {
        "id": "PIc0F1h9dHen"
      }
    },
    {
      "cell_type": "markdown",
      "source": [
        "Why BSP tree??\n",
        "\n",
        "* Sorting polygons (scene objects) with respect to camera position (Depth sorting)\n",
        "  * Useful in rendering static scene with dynamic \n",
        "\n",
        "Aim :\n",
        "\n",
        "* Computation of BSP tree done in pre-processing \n",
        "* BSP tree must therefore be used for rendering scene with all possible camera position \n",
        "\n",
        "What ?\n",
        "\n",
        "* Spatial data structure for partitioning scene (3D/2D) into regions \n",
        "  * 2D BSP trees - Line segments\n",
        "  * 3D BSP tree - Traingles/ polygons\n",
        "\n",
        "\n",
        "How ?\n",
        "\n",
        "* **Uses splitting line to divide the trianlges/line segments to form clusters of sub region.** \n",
        "* **Property** :\n",
        "  * **Lines/traingles on same side of viewpoint cannot be hidden by lines or trianlges on other side of splitting line** \n",
        "\n",
        "Output :\n",
        "\n",
        "* Binary tree that subdivides the scenes into clusters of region\n",
        "  * Inner Vertices (Nodes)\n",
        "    * Splitting lines (2D)\n",
        "    * Splitting plane (3D)\n",
        "  * Leaves \n",
        "    * Regions / cluster of traingles in space\n",
        "\n",
        "BSP Tree Construction and structure:\n",
        "\n",
        "1. Place splitting line through a straight line segment (2D scene) A.k.A automatic subdivision to subdivide the scene into left and right clusters.\n",
        "  * Splitting lines can be placed arbitrarily.\n",
        "  * Choosing the line segment to place the first splitting line to divide the 2D scene into 2 clusters can be choosen arbitrarily.\n",
        "    * **The first segment chosen for splitting line becomes root of the tree**\n",
        "      * It is an endless line as its the first splitting line.\n",
        "      * Choosing the root impacts the height of the tree\n",
        "      * Height of the tree impacts the run time of rendering the scene.\n",
        "3. Store the line segment and splitting line in each vertex (node)\n",
        "4. Recursively subdivide the regions into left and right subtree /subregions with respect to splitting line until there is one segment (cluster of same segment) in one region.\n",
        "  * Root of the subtree/ the entire BSP tree holds the region of their children. \n",
        "    * All the children of root will be the sub regions of the root node\n",
        "5. Store the leaf segment/ region as leaf of the binary tree.\n",
        "  * Combining all the leaf nodes together gives the entire region of the scene. \n",
        "  \n",
        "\n",
        "Application : \n",
        "\n",
        "* Painters algorithm \n",
        "  * Why ?\n",
        "    * Dealing with occulusion (Overlapping objects)\n",
        "  * How? (Algorithm)\n",
        "    * Depth sorting of trianlges with respect to the viewers distance \n",
        "    * Draw triangles back to front\n",
        "  * Scenario\n",
        "    * Cyclic overlap of trianlges\n",
        "      * Cut the cycle by cutting the triangle into fragments.\n",
        "* Occlusion culling \n",
        "* Rendering of transperent objects\n",
        "\n",
        "\n",
        "Characteristics :\n",
        "\n",
        "* Very efficient for static scenes (static objects with dynamic camera positions)\n",
        "* Linear time for rendering (traversing the BSP tree)\n",
        "* Size of BSP tree is not linear with respect to input size ( polygons ) as\n",
        "\n"
      ],
      "metadata": {
        "id": "4l-4iSoqdbr6"
      }
    },
    {
      "cell_type": "markdown",
      "source": [
        "**Painters algorithm using BSP tree** \n",
        "\n",
        "\n",
        "1. Traverse the BSP tree \n",
        "2. Draw triangles in order from back to front (with respect to viewer position) \n",
        "3. Draw any fragments of triangle (splitting line cutting through the triangle) in inner nodes.\n",
        "\n",
        "Cases :\n",
        "  * View point w.r.t Splitting line \n",
        "    * h+ (right side of the splitting line)\n",
        "    * h- (left side of the splitting line)\n",
        "  * if Viewpoint in  \n",
        "    * h+\n",
        "      * PaintersAlgo(left subtree / T-)\n",
        "      * Draw if any Fragments stored in inner node\n",
        "      * PaintersAlgo(right subtree)\n",
        "    * h-\n",
        "      * PaintersAlgo(right subtree / T+)\n",
        "      * Draw if any Fragments stored in inner node\n",
        "      * PaintersAlgo(left subtree)\n",
        "    * Parallel to splitting line\n",
        "      * PaintersAlgo(right subtree / T+)\n",
        "      * Draw if any Fragments stored in inner node\n",
        "      * PaintersAlgo(left subtree)\n",
        "\n",
        "\n",
        "---\n",
        "\n",
        "**Recursion** \n",
        "* Painter algorithm is **recursive algorithm - (function calls itself with new arguments until the final solution is reached)**.\n",
        "  * Recursion - breaking the problem into subproblem such that each invocation of the method progresses towards solution.\n",
        "  * Each invocation of the method gets added to the call stack (memory organized as stack to store the intermediate values) until the base case is reached. Once the base case is reached, the call stack is popped out.\n",
        "* Recursion has two cases\n",
        "  1. Base case \n",
        "    * Terminal condition (function call ends with a return) \n",
        "      * What is the smallest value that can be passed to the function ?\n",
        "      * Cases :\n",
        "          * Null case ?\n",
        "          * One input value ?\n",
        "          * If solution :\n",
        "            * Found \n",
        "            * Not found\n",
        "  2. Recursive case\n",
        "    * Function calls itself (sub problem call until base case is hit). \n",
        "* Basic algo :\n",
        "    * Pre-processing\n",
        "      1. Break down the problem into sub problem with intermediate solution (recursive case). Formulate the stopping condition (base case).\n",
        "    * Processing\n",
        "      2. Prune the search/problem space by calling the recursive function. \n",
        "      3. Store the recursive call in the call stack in LIFO order untill the base case is reached.\n",
        "    * Post-processing\n",
        "      4. Once the base case is reached, Pop the call stack and calculate the intermediate solutions in the call stack until the goal is reached. \n",
        "\n",
        "E.g. :\n",
        "\n",
        "```\n",
        "public String reverseString(String input)\n",
        "{\n",
        "  # Base case\n",
        "  if (input.length == null){\n",
        "    return \"\";\n",
        "  }\n",
        "\n",
        "  # Recursive call \n",
        "  return reverseString(input.substring(1))+ input.charAt(0);\n",
        "} \n",
        "\n",
        "```\n",
        "\n",
        "Recursion in Binary search trees :\n",
        "\n",
        "* Property :\n",
        "  * Number of children <= 2\n",
        "    * Least  : 0\n",
        "    * Maximum : 2 \n",
        "  * Left child < root < right child\n",
        "    * Holds true recursively for every subtree\n",
        "* Recursive algo for inserting value:\n",
        "\n",
        "```\n",
        "  Node insertNode (head, data):\n",
        "    * Base case :\n",
        "      * If (head node is null) || (we recursively reached the goal position using BST property)\n",
        "        * Create the new node with the data value as head and return\n",
        "    * Recursive case :\n",
        "      * if (head.data < data) # Recurse through right sub tree\n",
        "        * head.right = insertNode(head.right, data)\n",
        "      * else # Recurse through left sub tree\n",
        "        * head.left = insertNode(head.left, data)\n",
        "    * Final return\n",
        "      * Return head # the original root node after recursion \n",
        "    \n",
        "```\n",
        "\n",
        "---\n",
        "\n",
        "**Painters Algorithm**\n",
        "```\n",
        "Painters (Tree T, Viewpoint vp)\n",
        "Let v be the root of T\n",
        "\n",
        "if v is a leaf  # Base case\n",
        "  then draw the fragments/triangles S(v) of the node v\n",
        "\n",
        "else if vp is in h+ (right side of splitting line)\n",
        "  then \n",
        "    Painters(T-, vp) # Back side of viewpoint\n",
        "    draw the fragments S(v) of the node v \n",
        "    Painters (T+, vp) # font side of the viewpoint\n",
        "\n",
        "else if vp is in h- (left side of splitting line)\n",
        "  then \n",
        "    Painters (T+, vp) # Back side of viewpoint\n",
        "    draw the fragments S(v) of the node v\n",
        "    Painters (T-, vp) # font side of the viewpoint\n",
        "\n",
        "else  # Viewpoint exactly in the direction of splitting line\n",
        "  Painters (T+, vp)\n",
        "  Fragments are invisible from the side \n",
        "  Painters (T-, vp)\n",
        "\n",
        "```\n",
        "\n"
      ],
      "metadata": {
        "id": "i453prY8JUU6"
      }
    },
    {
      "cell_type": "markdown",
      "source": [
        "## 2D BSP tree algorithm"
      ],
      "metadata": {
        "id": "mi_2auAfVUUG"
      }
    },
    {
      "cell_type": "markdown",
      "source": [
        "\n",
        "\n",
        "* Input : Set of n line segments S = {s1,s2..}\n",
        "* Ouput : BSP tree of the scene with S segments\n",
        "\n",
        "Steps :\n",
        " \n",
        "* Go from top to bottom ( Root -> children)\n",
        "* Use splitting line to divide the line segments\n",
        "* Continue recursively \n",
        "\n",
        "Choosing the splitting line?\n",
        "\n",
        "* Automatic subdivision  \n",
        "  * Infinetely long splitting line l(s) goes through segment `s`\n",
        "* Arbitrary subdivision \n",
        "  * Splitting line can be placed arbitrarily."
      ],
      "metadata": {
        "id": "O93rq0PBe0N0"
      }
    },
    {
      "cell_type": "markdown",
      "source": [
        "### Computation of the 2d BSP tree with set of line segments S"
      ],
      "metadata": {
        "id": "7sgwbApWVYHp"
      }
    },
    {
      "cell_type": "markdown",
      "source": [
        "\n",
        "\n",
        "Algorithm:\n",
        " * Create a BSP tree T with node v:\n",
        "  * Left subtree T-\n",
        "  * Right subtree T+\n",
        "  * Store triangles which lie exactly in splitting plane in the inner node (S(v))\n",
        "\n",
        "```\n",
        "Algorithm 2dBSP(S):\n",
        "\n",
        "if S <= 1: (base case)\n",
        "\n",
        "  * Create tree T with leaf node containing line segment S\n",
        "   return T\n",
        "\n",
        "else:\n",
        "\n",
        "  * Use splitting line l(s1) with segment s1 as root to split the regions into two sub regions\n",
        "    * S+ (right region w.r.t l(s1)); \n",
        "    * Recurse and contruct T+ (right subtree) = 2dBSP(S+);\n",
        "    * S- (left region w.r.t l(s1))\n",
        "    * Recurse and contruct T- (left subtree) = 2dBSP(S-);\n",
        "\n",
        "  return T\n",
        "```\n"
      ],
      "metadata": {
        "id": "gVJSvTYoFgci"
      }
    },
    {
      "cell_type": "markdown",
      "source": [
        "### Size of 2d BSP tree"
      ],
      "metadata": {
        "id": "0zAx3lQ3VCwA"
      }
    },
    {
      "cell_type": "markdown",
      "source": [
        "**Size (BSP tree) = number of intersected and not intersected segments**\n",
        "  * **Size : Intersected segments (2n) + non intersected segments (n)** \n",
        "\n",
        "    * Intersected segments\n",
        "      * Intersected segments are line segments that are intersected by the splitting line. (of the root segment l(s1))?.\n",
        "      * Intersected segments becomes fragments \n",
        "        * Intersected segment s2 becomes : s2 and s2' => 2 segments\n",
        "\n",
        "**Problem** \n",
        "\n",
        "* **Splitting segment selected leads to different sizes of tree (nodes in tree)**\n",
        "* Size of tree affects runtime and storage space\n",
        "\n",
        "**Solution** :\n",
        "\n",
        "1. **Greedy approach** (making the **locally optimal choice** at each stage):\n",
        "  * **Choose splitting segments that cuts as few other segments as possible.**\n",
        "    * Computation for choosing such splitting segment might be time consuming\n",
        "\n",
        "2. **Randomized approach** (employs a degree of randomness as part of its logic or procedure) \n",
        "  * Good if computation of greedy approach takes more time.\n",
        "\n",
        "\n",
        "\n"
      ],
      "metadata": {
        "id": "kSo6LG-gVbF-"
      }
    },
    {
      "cell_type": "markdown",
      "source": [
        "#### Randomized approach (2dRandom BSP tree)"
      ],
      "metadata": {
        "id": "FYbmDQsa-9qC"
      }
    },
    {
      "cell_type": "markdown",
      "source": [
        "**Randomized approach (2dRandom BSP tree)**\n",
        "\n",
        "```\n",
        "Algorithm 2dRandomBSP(S)\n",
        "  1. Create Random permutation set(S') from set of line segments(S)\n",
        "    * Two varients \n",
        "      1. **Compute random permutation of set**, which leads to different ordering of segments and **select s1 as splitting segment**.\n",
        "      2. For each step, **select splitting segment s from set S randomly**.\n",
        "  2. Feed it to the 2dBSP(S')\n",
        "  3. Return T\n",
        "```\n",
        "\n",
        "* **Expected Size (2dRandomBSP tree)** = **O(nlogn)**\n",
        "\n",
        "\n",
        "\n"
      ],
      "metadata": {
        "id": "TGEt0jZLdLix"
      }
    },
    {
      "cell_type": "markdown",
      "source": [
        "**Expected size of 2dRandomBSP tree Proof** :\n",
        "\n",
        "Size = intersected and non-intersected\n",
        "\n",
        "1. Intersected segments \n",
        "  *  Goal : Find the number of fragments generated when a segment is selected as splitting line.\n",
        "    * Two steps Solution :\n",
        "        1. Compute the **number of fragments generated** if single segment **l(si) chosen as splitting segment**\n",
        "        2. Compute number of fragments generated if all segment n is choosen as splitting segment (based on step 1).\n",
        "2. Non-intersected segments "
      ],
      "metadata": {
        "id": "bXd3uahk_FgQ"
      }
    },
    {
      "cell_type": "markdown",
      "source": [
        "**1. Number of fragments generated by l(si) ?** \n",
        "\n",
        "* Answer using 2 Questions (Running example segments si and sj)\n",
        "\n",
        "  1. Number of segments front/back  of si?\n",
        "    * Answer using **Distance of a segment (sj)**\n",
        "        * **dist (sj) : \"Number of segments between si and sj intersected by l(si)\"**\n",
        "  2. When does si cut sj which is in front(/back)?\n",
        "    * si cuts sj if :\n",
        "      * **si is selected as splitting segment before sj or si is selected as first splitting line**.\n",
        "        * Why ?\n",
        "          * If sj is in front and si is selected as splitting segment, the splitting line of si which is infinite line cuts all the segments in the front of si.\n",
        "    * Else :\n",
        "      *  Another segment **protects sj**.\n",
        "\n",
        "**Ordering of segments matters as an infinite long splitting line drawn through the first segment might cut the segments**\n",
        "\n",
        "* **Probability of intersection one segment**: \n",
        "  * Probability of si intersecting sj is **1 over sum** (**number of segments  between si and sj intersected** by splitting segment l(si) and **including si,sj i.e. 2**).\n",
        "\n",
        "    * `probability(l(si) intersects sj) <= (1/ dist(sj) + 2)` \n",
        "  * Why? \n",
        "    * Used to calculate the **expected number of intersections generated by si**\n",
        "\n",
        "* **Total number of intersections made by *single segment* s** :\n",
        "    * Total number of intersections made by segment s -> **summation ( probability of si intersecting all segments** that are front of si and between sj) **multiplied by 1** as one extra fagment is generated when intersected.\n",
        "\n",
        "  ```\n",
        "      E(number of intersections caused by s) <= summation((1/dist(S')+2)*1)\n",
        "\n",
        "      * Remove the distance function and get a term dependent on n (input set)\n",
        "        * As distance between two segments increase in both direction, 2 is multiplied with summation of all segments and i is substituted for distance function\n",
        "\n",
        "      ▶ <= 2 * (Summation (i = 0 to n-2) (1/i+2))\n",
        "      ▶ <= 2ln(n)\n",
        "\n",
        "  ```\n",
        "\n",
        "* **Total number of intersections made by *n segments*** :\n",
        "\n",
        "  *  Total number of intersections of n segments is n * *(total number of intersections made by single segment)*\n",
        "\n",
        "    ▶ n * (2ln(n)) => 2n ln(n) / **2n log(n)**\n",
        "\n",
        "**Total size of randomized 2dBSP**\n",
        "  * Size/ number of nodes of randmized 2dBSPTotal =  non-intersection segments + number of intersection fragments   \n",
        "\n",
        "  ▶ **Expected Size of Randomized BSP tree = n + 2n ln(n)**\n",
        "\n",
        "  ▶ **Bounding the size of randomized BSP tree = O(n log(n))** \n",
        "    * As big o only cares for significant\\ dominant term\n",
        "\n",
        "\n"
      ],
      "metadata": {
        "id": "3hmgHbq7CBSl"
      }
    },
    {
      "cell_type": "markdown",
      "source": [
        "**Runtime of Randomized2DBSP tree algorithm**\n",
        "\n",
        "* Runtime  = `O(n^2 log(n))`\n",
        "  * Why ?\n",
        "    * Runtime dependent on size of BSP tree `O(nlog(n))` and number of recursive calls`(n)`\n",
        "    * (Recursive calling of S+ and S-) * (Size of BSP tree)\n",
        "      * Runtime = `O(n*nlog(n)) = O(n^2 logn)` \n",
        "\n"
      ],
      "metadata": {
        "id": "FwiWzH-ixGyi"
      }
    },
    {
      "cell_type": "markdown",
      "source": [
        "## 3D BSP tree "
      ],
      "metadata": {
        "id": "gSd48mu245xw"
      }
    },
    {
      "cell_type": "markdown",
      "source": [
        "**Input** : **Trianlges or polygons** or objects in 3D. (***2D surfaces formed after triangulation of 3D scene***)\n",
        "\n",
        "Uses : Splitting plane `h(t)` (3D - version) used to divide the 3D sppace into two halfs `h-`, `h+`\n",
        "\n",
        "**Output** : **BSP tree of the 3D scene** using **splitting plane**.\n",
        "\n",
        "\n",
        "**Splitting plane** :\n",
        "\n",
        "* Automatic subdivision \n",
        "  * Taking the plane of triangle or polygon for defining splitting plane\n",
        "    * Why ?\n",
        "      * When the position of splitting plane cannot be easily determined\n",
        "* Arbitrary subdivision \n",
        "\n",
        "\n",
        "\n",
        "\n",
        "\n",
        "\n",
        "\n",
        "\n"
      ],
      "metadata": {
        "id": "2GxNYqBO5Amv"
      }
    },
    {
      "cell_type": "markdown",
      "source": [
        "### Computation of 3D BSP tree"
      ],
      "metadata": {
        "id": "LEi1_JwM4G9x"
      }
    },
    {
      "cell_type": "markdown",
      "source": [
        "\n",
        "\n",
        "* Input : A set of trianlges S = {t1,t2,...}\n",
        "* Output : A 3D BSP tree for S \n",
        "\n",
        "Algorithm:\n",
        "  * Create a BSP tree T with node v:\n",
        "    * Left subtree T-\n",
        "    * Right subtree T+\n",
        "    * Store triangles which lie exactly in splitting plane in the inner node (S(v))\n",
        "\n",
        "  ```\n",
        "  Algorithm 3dBSP(S):\n",
        "\n",
        "  if S < 1:\n",
        "      then create a tree T with a single leaf node containing object S\n",
        "        return T\n",
        "\n",
        "  else : \n",
        "      Use h(t1) as splitting line to divide the space into two halfs `h+`, `h-`\n",
        "      S+ = set of triangles belonging to left of splitting plane (h+);\n",
        "      T+ = 3dBSP(S+);\n",
        "\n",
        "      S- = set of triangles belonging to right of splitting plane (h-);\n",
        "      T- = 3dBSP(S-);\n",
        "  \n",
        "  return T\n",
        "```\n",
        "\n"
      ],
      "metadata": {
        "id": "-O1tKO2_etET"
      }
    },
    {
      "cell_type": "markdown",
      "source": [
        "### Size of 3D BSP tree "
      ],
      "metadata": {
        "id": "ddaD_2R_4JlW"
      }
    },
    {
      "cell_type": "markdown",
      "source": [
        "**Size of 3D BSP tree** = Number of **intersected trianlge fragments** + **non-intersected triangles** \n",
        "\n",
        "**Problem** : \n",
        "  * Size affects runtime\n",
        "    * Especially number of intersected triangle fragments.\n",
        "    * Greedy approach of selecting the first triangle for drawing a splitting plane might lead to increase in number of intersected triangle fragments.\n",
        "\n",
        "**Approach**\n",
        "  * Randomization \n",
        "    * Select the triangle t1 for drawing splitting plane after random permution of the input set. \n",
        "\n",
        "  ```\n",
        "  Algorithm 3dRandomBSP(S)\n",
        "    * From set S compute random permutation S' = {t1,...}\n",
        "    * T = 3dBSP(S')\n",
        "    * return T\n",
        "  ```\n",
        "\n",
        "  * **Problem** : \n",
        "    * **Size** of Randomized 3dBSP **not computed** so far, based on research.\n",
        "  * **Solution** :\n",
        "    * **Modify the algorithm** and introduce a new operation **free splits**\n",
        "\n"
      ],
      "metadata": {
        "id": "gefh5S0-4RrI"
      }
    },
    {
      "cell_type": "markdown",
      "source": [
        "#### Free Split"
      ],
      "metadata": {
        "id": "QCF5wCvABXxl"
      }
    },
    {
      "cell_type": "markdown",
      "source": [
        "**Definition** \n",
        "  * A **trianlge/line segment/fragment** when **used as splitting line** or plane which **doesnot produce any intersections or further fragments** is a free split.\n",
        "\n",
        "**Why this new operation** ? \n",
        "  * To analyze the size of randomized 3dBSP tree \n",
        "\n",
        "**Modified Randomized algorithm**\n",
        "\n",
        "  * Input : A set of trianlges S = {t1,...}\n",
        "  * Output : A 3D BSP tree for S \n",
        "  \n",
        "  ```\n",
        "  Algorithm 3dRandomFreeSplitBSP(S) \n",
        "\n",
        "    Create from S a random permutation S' = {t1',t2',...}\n",
        "\n",
        "    for i = 1 to n\n",
        "      do \n",
        "        * Use h(t'i) to **divide all the triangles/fragments** that intersects splitting plane.\n",
        "          * Consider reasonable subdivision  \n",
        "        * Use all possible free splits\n",
        "  ```\n",
        "\n",
        "* **Size of 3dBSPRandomFreeSplits algorithm is *O(n^2)*** \n",
        "\n",
        "**Difference between randomized (recursive) version and randomized free split (iterative version)**\n",
        "  * Recursive version \n",
        "    * Uses first plitting plane or line to draw an infinitely long splitting line to divide the space into two halfs\n",
        "    * Then divide the left half and right half sub divisions recursively \n",
        "      * Only the first splitting line divides the entire region.**The second splitting plane cannot intersect the first splitting plane as splitting takes place in the left sub half.**\n",
        "  * Iterative version \n",
        "    *  The second splitting line can intersect the first splitting line and divide the segments into two halfs.\n",
        "      * The number of fragments might increase. Hence we avoid any splitting line where there are no segments produced.\n",
        "\n"
      ],
      "metadata": {
        "id": "TVpATQo0Bokm"
      }
    },
    {
      "cell_type": "markdown",
      "source": [
        "#### Proof (Why Size O(n^2))"
      ],
      "metadata": {
        "id": "eA6gftQlJKgM"
      }
    },
    {
      "cell_type": "markdown",
      "source": [
        "2 Definitions \n",
        "\n",
        "1. Arrangement of lines \n",
        "  * Lines of splitting plane induce \n",
        "    1. Nodes / vertex\n",
        "      * Intersecting point of lines\n",
        "    2. Edges \n",
        "      * The line between two nodes (intersecting point)\n",
        "    3. Faces \n",
        "      * Enclodes region formed by Edges\n",
        "  * **Complexity of arrangement of lines = O(n^2)** i.e. Total number of nodes, egnes and faces\n",
        "2. Zone of Arrangement the lines \n",
        "  * **The number of intersecting faces**, when a line l is placed through arragement of n line segments is zone of the line l.\n",
        "  * **Complexity = O(n)** \n",
        "\n",
        "\n",
        "**Proof of randomized algorithm** \n",
        "  * **Calculate the expected number of fragments formed by a single triangle tk intersected by planes of other triangle** (on the same side of splitting plane of the triangle tk.)\n",
        "    * Let L be the intersecting lines in the plane of triangle tk. \n",
        "      * Counting every intersecting lines of other triangle splitting plane leads to quadratic size (n^2 / n^3) of tree (unfavorable).\n",
        "   * For this \n",
        "      * Consider zone of arrangement of an intersecting line l(tk-1)\n",
        "        * **Place a line through the triangle tk**\n",
        "      * Consider the number of intersections made by intersecting line l(tk-1)\n",
        "        * **Count only the outer faces** to find the number of intersected fragments. \n",
        "          * Inner faces : Faces without boundary (inner side of triangle)\n",
        "          * Outer faces : **Face with *edge* of intersecting line touching the boundary/edge of trianlge tk** (Edge touching the boundary)\n",
        "          * Why?\n",
        "            * **Inner faces donot generate any split as they are free splits**\n",
        "      * **The number of edges of outer faces = O(K)**\n",
        "      * **Expected number of fragments of triangle tk = O(k)**\n",
        "      * **The expected number of fragments by counting all the fragments = O(n^2)**     "
      ],
      "metadata": {
        "id": "NpNlvRZxJXmD"
      }
    },
    {
      "cell_type": "markdown",
      "source": [
        "## Results of size of BSP trees"
      ],
      "metadata": {
        "id": "LY7LIg2aTWYV"
      }
    },
    {
      "cell_type": "markdown",
      "source": [
        "### Size of 2D BSP tree\n"
      ],
      "metadata": {
        "id": "wUE51IJZTaNA"
      }
    },
    {
      "cell_type": "markdown",
      "source": [
        "* **Randomized approach** - ***Non-deterministic (The expected size and run-time is not deterministic and can vary)***\n",
        "  * **Size = O(nlogn)**\n",
        "  * **Run-time = O(n^2 log(n))** \n",
        "\n",
        "* Other algorithm\n",
        "  * **Non-automatic subdivision** - **Deterministic**  \n",
        "      * **Size = O(nlogn)**\n",
        "      * **Run-time = O(n^2 log(n))** "
      ],
      "metadata": {
        "id": "OtY5c2dgTuvO"
      }
    },
    {
      "cell_type": "markdown",
      "source": [
        "### Size of 3D BSP tree "
      ],
      "metadata": {
        "id": "jjjFO8SpTaE1"
      }
    },
    {
      "cell_type": "markdown",
      "source": [
        "* Automatic subdivision \n",
        "  * **Choosing straight line or triangle as splitting plane/ line**\n",
        "    * **Size = O(n^2)**\n",
        "    * **n- non-overlapping triangles = Omega(n^2)** \n",
        "* Non - automatic subdivision (**Not sure**)\n",
        "    * For any set of 𝑛triangles that do not cross, there exists a **Size = O(n^2)**\n",
        "    * For certain arrangements **n - non-overlapping triangles = Omega(n^2)** "
      ],
      "metadata": {
        "id": "MIj0zCXzTwCE"
      }
    },
    {
      "cell_type": "markdown",
      "source": [
        "# Chapter-3 PVS"
      ],
      "metadata": {
        "id": "rxQEuZwEetFv"
      }
    },
    {
      "cell_type": "markdown",
      "source": [
        "* **Why ?**\n",
        "  * Avoid Rendering of redundant geometry objects (**Efficiency : save computation time**) - occlusion culling \n",
        "    * Do not send a part of invisible polygons to the graphics card for rendering.\n",
        "      * Algorithm worthwhile : **Computation time (invisible polygons by CPU) < Computation time(invisible polygons by GPU)** \n",
        "    \n",
        "    \n",
        "* **What ?**\n",
        "  * **PVS algorithm useful for rendering real-time walkthrough of architectural models (buildings, rooms)**  \n",
        "    * Visibility culling algorithm \n",
        "      * Occlusion test\n",
        "\n",
        "* **How ?**\n",
        "  * **We do not compute an exact visibility solution!**\n",
        "    * **Calculate conservative estimate of visible primitives**, hence Potential Visible Set (PVS)\n",
        "      * Conservative estimate : Compute a conservative solution (not exact solution)\n",
        "        * Conservative estimate (visible primitives) => visible primitives + small part of invisible primitives \n",
        "    * **Compute exact visible by rendering pipeline** (Z-buffer, clipping)    \n",
        "    * Exploit **high degree of occlusion by walls and floor**\n",
        "    * 3D Architectural models consists of 2 elementary structures  \n",
        "      1. Cells(regions enclosed by opaque walls) \n",
        "        * E.g.: rooms, corridors\n",
        "      2. Portals(transparant-part of cell/room).\n",
        "        * E.g.: Passage, open door, windows etc.\n",
        "    * **The 2D floor plan is divided into cells and portals by  Marking all apertures as portals and convex regions thus formed as rooms, as starting step**\n",
        "    * Visibility (using occlusion query/test) computed in two stages \n",
        "      1. Cell-to-cell visibility\n",
        "        * **Computed** in pre-processing **before walkthrough** \n",
        "        * **Viewpoint independent computation**\n",
        "        * Data structure :    \n",
        "          * **Adjacency graph**, **stab tree** \n",
        "      2. Eye-to-cell visibility\n",
        "        * **Computed during walkthrough** computation\n",
        "        * **Viewpoint dependent visibility** \n",
        "        * Data structure \n",
        "          * **Pruned stab tree**\n",
        "    * **Idea** :      \n",
        "      1. Pre-processing (before-walkthrough)\n",
        "        * Compute **adjacency graph** of the model \n",
        "          * Connect adjacent cells (nodes of graph) with edge if there is a opening (portal) connecting the two cells. \n",
        "      2. During walkthrough\n",
        "        * Start with cell of the observer\n",
        "        * Traverse adjacency graph /stab tree\n",
        "        * Render visible cells\n",
        "          * Visibility of cell \n",
        "            * A cell is visible if the line of sight passes to the cell (through portal)\n",
        "            * **A cell (from another cell) is visible when viewed through a portal, its also viewpoint dependent**\n",
        "          \n"
      ],
      "metadata": {
        "id": "dZEZvC1Xezpn"
      }
    },
    {
      "cell_type": "markdown",
      "source": [
        "## Architectural models "
      ],
      "metadata": {
        "id": "nfFvj6d-NPI_"
      }
    },
    {
      "cell_type": "markdown",
      "source": [
        "Architectural models\n",
        "\n",
        "* **Model floor of the building by 2D layout**\n",
        "  * Walls and portals are projected (orthographic projection- parallel projection from different viewpoints) to projection plane to form 2D layout plan. [Orthographic projection](https://www.youtube.com/watch?v=Rz4WWtDX2Kc&ab_channel=EdorealEngineering) \n",
        "  * **Floor plan when projected onto 2D layout plan becomes a set of 2D line segements**\n",
        "* Exploit high degree of occlusion \n",
        "* Two elementary structural elements of 3D architectural scene\n",
        "  1. Cells\n",
        "    * Regions/space enclosed by walls and portals\n",
        "    * E.g. \n",
        "      * Rooms, corridors\n",
        "  2. Portals\n",
        "    * Open/transparant part of room\n",
        "    * E.g\n",
        "      * Passage, doors, windows\n",
        "\n",
        "* **Subdivision of 2D layout of floor plan into cells and portals ?**\n",
        "  * **Idea** :\n",
        "    1. Mark apertures (openings) in the 2D floor plan as portals \n",
        "    2. This marking leads to formation of convex cells(rooms) with portals. \n",
        "      * Formation of convex cells (rooms) depends on the orientation of setting portals\n",
        "        * As first the apertures in the floor plan are marked as portals which leads to formation of rooms.\n",
        "\n",
        "\n",
        "\n",
        "\n",
        "\n",
        "\n"
      ],
      "metadata": {
        "id": "DA8APAKDUOON"
      }
    },
    {
      "cell_type": "markdown",
      "source": [
        "## PVS Algorithm"
      ],
      "metadata": {
        "id": "3iRrv2Z8iERU"
      }
    },
    {
      "cell_type": "markdown",
      "source": [
        "**Goal** : Potential visible sets from viewer position \n",
        "\n",
        "**Input** :  2D floor plan with cells and portals\n",
        "\n",
        "**Output** : PVS from the viewer position \n",
        "\n",
        "**PVS Algorithm** :\n",
        "\n",
        "1. Spatial subdivision of floor plan into cells and portals using 2D BSP tree and computation of adjacency graph.\n",
        "  * **Data structure** \n",
        "    1. BSP tree\n",
        "      * 2D BSP tree for spatial subdivison of scene\n",
        "      * Use automatic subdivision based on the 2D line segments of the floor plan.\n",
        "          * ***Walls and portals are used as splitting plane*** for spatial subdivision.\n",
        "            * Splitting line through \n",
        "              * Walls : 2D - line segments of 2D floor plan used as splitting line (automatic subdivision)\n",
        "              * Portal : Apertures in 2D-line segments of 2D floor plan is part where the splitting line is not going through wall. \n",
        "          * Choose segments which cuts as few segments as possible\n",
        "      * Leaves reperesent cells\n",
        "          * ***Leaves of BSP tree represent spatial regions that form cells which consists of walls or portals***. \n",
        "\n",
        "        \n",
        "  2. Adjacency graph\n",
        "      * From the BSP tree, construct adjacency graph\n",
        "      * Leave nodes form cells\n",
        "        * One node per cell/room\n",
        "        * Each leave node in BSP tree is a node in adjacency graph\n",
        "      * Nodes are connected by an edge if \n",
        "          * Cells are adjacent\n",
        "            * Nodes in BSP tree have common parent\n",
        "          * Portal exists between both cells.\n",
        "            * With automatic subdivision, splitting line may contain wall with portal\n",
        "            * Inner nodes/parent node of BSP tree should contain portal. \n",
        "      * Leaf nodes (BSP tree) => Nodes on adjacency graph\n",
        "      * Edges between nodes exits if \n",
        "        * Splitting line \n",
        "\n",
        "2. Visibility computation \n",
        "  * **Cell-to-cell (pre-processing - viewpoint independent (PVS from different positions) - before walkthrough)** \n",
        "    * Viewpoint independent computation of visibility in pre-processing \n",
        "    * Compute PVS from viewer cell, viewpoint independent i.e all visible cells from different positions of the viewer cell (cells visible from different viewpoints).\n",
        "    * **How?**\n",
        "      * From viewer cell, store the list of all cells that are visible\n",
        "      * Use **Stab tree**\n",
        "        * **What is stab tree?**\n",
        "          * Tree with root node representing a fixed cell C\n",
        "          * Each node in stab tree correspond to cell that is visible from atleast one position in fixed cell C\n",
        "          * Two nodes are connected by edge if cells are adjacent and connected through portal \n",
        "            * **Known from adjacency graph**\n",
        "          * **A path from root node to inner node or leaf correspond to portal sequence**\n",
        "            * **Portal sequence** \n",
        "              * Usefull as **visibility of cells can be calculated through portals**\n",
        "              * **Series of connected nodes (cells) visible from root node**\n",
        "              * **Defines *line of sight* from the root node**\n",
        "                * **Line of sight**\n",
        "                  * **Why?**\n",
        "                    * To compute stab tree from adjacency graph\n",
        "                  * **What ?**\n",
        "                    * Line of sight : A sight line passing from viewer cell C to adjacent cells through a series of portals.\n",
        "                    * **Visibility of adjacent cell can be defined through line of sight** \n",
        "                  * **How to compute line of sight for viewer cell?**\n",
        "                    * Adjacency graph defines a series of portals (as edge connected to adjacent cells.)\n",
        "                    * For each traversed portal, store end points in two sets \n",
        "                      1. Lp\n",
        "                      2. Rp\n",
        "                    * **A sight line only intersects the sequence of portals if the two sets are linearly seperable**\n",
        "                    ---\n",
        "                    **Linear seperability** \n",
        "                      * Two sets A,B in 2D space are linearly seperable, if there is a straight line, so that point set A lies on one side and point set B lies on other side. \n",
        "                      * Using linear program, linear seperability can be solved in linear time.\n",
        "                    ---\n",
        "                  * **Using linear program, line of sight computation can be solved in linear time *O(m)* ; m - No. portals**\n",
        "                  * **How to determine left or right point in a portal?**\n",
        "                    * Portal sequence determines a direction \n",
        "                    * Based on direciton the points to the right of the line of sight are Rp and to the left are Lp\n",
        "        * **How to compute stab tree?**\n",
        "          1. Start with cell (viewer cell)\n",
        "          2. Compute depth first search (DFS) over the adjacency graph portal sequence based on line of sight of the cell(viewer cell)\n",
        "    ---\n",
        "    Stab tree computation \n",
        "    * Computed from adjacency graph\n",
        "    * Parameters \n",
        "      1. Cell\n",
        "      2. Portal sequence  \n",
        "      3. Visible-cell-set \n",
        "      4. stab tree S\n",
        "    * Algo\n",
        "      1. Start with cell C\n",
        "      2. For each neighbor of C, orient portals from C to neighbor (stab tree from graph) and add it to portal sequence to calculate stabbing line (line of sight from Cell C to Neighbor N)\n",
        "        * For each neighbor(N) of cell (C) \n",
        "          * For each Portal connecting C and N\n",
        "            * Orient portal from C to N\n",
        "      3. Check if line of sight (stabbing line) exists for each portal in portal sequence \n",
        "        * If true\n",
        "          * Add neighbor as child of C \n",
        "          * Recurse with children\n",
        "    ---\n",
        "    \n",
        "  * **Eye-to-cell visibility (During walkthrough - viewpoint dependent (PVS from fixed positions) - during walkthrough)**\n",
        "    * Reduce the PVS(stab tree) computed in cell-to-cell visibility \n",
        "      * **Why ?**\n",
        "        * Cell-to-cell visibility computes visibility of viewer from 360 degrees (viewpoint independent) \n",
        "    * Perform **culling of PVS(stab tree) cells** with **view frustum(viewpoint dependent)** and Render those cells.\n",
        "    * 4 Hueristics to check the cell visibility (stab tree) with view frustum \n",
        "      1. **Cell test with frustum** \n",
        "        * Compute eye-to-cell visibility with frustum test ( **each cell in stab tree intersect with frustum**)\n",
        "        * **Stab tree iteslef is not used ( nodes are store in list)**\n",
        "      2. **DFS with cell test**\n",
        "        * Start with root node of stab tree\n",
        "        * **Do DFS and at each node test if the the node(cell) intersect frustum** \n",
        "          * Break DFS if the node is outside frustum.\n",
        "      3. **DFS with portal test**\n",
        "        * Start with root node of stab tree\n",
        "        * **Do DFS and at each node test if the portal of cell(node) intersects frustum.**\n",
        "           * Break DFS if the node is outside frustum.\n",
        "      4. **Exact eye-to-cell**\n",
        "        * Start with root node of stab tree\n",
        "        * **Do DFS and at each node test if the line of sight exists through the cell portal.**\n",
        "      * 4 hueristic vary in accuracy and speed    \n",
        "\n",
        "\n",
        "\n",
        "\n",
        "\n",
        "\n",
        "\n"
      ],
      "metadata": {
        "id": "PS-Hy-DxiLdN"
      }
    }
  ]
}